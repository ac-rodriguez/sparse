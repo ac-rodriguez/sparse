{
 "cells": [
  {
   "cell_type": "code",
   "execution_count": null,
   "metadata": {},
   "outputs": [],
   "source": [
    "from osgeo import gdal, ogr\n",
    "import glob\n",
    "import numpy as np"
   ]
  },
  {
   "cell_type": "code",
   "execution_count": null,
   "metadata": {},
   "outputs": [],
   "source": [
    "import sys, os\n",
    "sys.path.insert(0, os.path.dirname(os.getcwd()))\n",
    "sys.path.insert(0, os.getcwd())\n",
    "\n",
    "\n",
    "import utils.gdal_processing as gp\n"
   ]
  },
  {
   "cell_type": "markdown",
   "metadata": {},
   "source": [
    "### Reproject map to grid without overlap"
   ]
  },
  {
   "cell_type": "code",
   "execution_count": null,
   "metadata": {},
   "outputs": [],
   "source": [
    "grid_file = '/home/pf/pfstaff/projects/andresro/barry_palm/palmoilmaps/descals2020/grid/grid_withOP.shp'"
   ]
  },
  {
   "cell_type": "code",
   "execution_count": null,
   "metadata": {},
   "outputs": [],
   "source": [
    "'gdal_retile.py -targetDir /scratch/andresro/leon_work/sparse/inference/palm4_act_simpleA9_soft_ens5/tiles '\\\n",
    "                '-of vrt -ps 10 10 -overlap 0 - levels 1 -v -r bilinear'"
   ]
  },
  {
   "cell_type": "code",
   "execution_count": null,
   "metadata": {},
   "outputs": [],
   "source": [
    "'gdal_retile.py -targetDir tiles -ps 10000 10000 -overlap 0 -levels 1 -v -r bilinear T51MTP*.tif T51MTQ*.tif T51MUP*.tif T51MUQ*.tif -tileIndex grid_10k.shp'"
   ]
  },
  {
   "cell_type": "code",
   "execution_count": null,
   "metadata": {},
   "outputs": [],
   "source": [
    "'gdal_retile.py -targetDir tiles -ps 10000 10000 -overlap 0 -levels 1 -v -tileIndex grid_10k.shp -pyramidOnly -r bilinear T*.tif'"
   ]
  },
  {
   "cell_type": "markdown",
   "metadata": {},
   "source": [
    "## Create Grid"
   ]
  },
  {
   "cell_type": "code",
   "execution_count": null,
   "metadata": {},
   "outputs": [],
   "source": [
    "# folder_inference='/scratch/andresro/leon_work/sparse/inference/palm4_act_simpleA9_soft_ens5'\n",
    "folder_inference='/scratch/andresro/leon_work/sparse/inference/palm2019_simpleA9_soft_ens5'"
   ]
  },
  {
   "cell_type": "code",
   "execution_count": null,
   "metadata": {},
   "outputs": [],
   "source": [
    "import math\n",
    "EARTH_RADIUS = 6371000  # Radius in meters of Earth\n",
    "\n",
    "\n",
    "# Compute the shortest path curved distance between 2 points (lat1,lon1) and (lat2,lon2) using the Haversine formula.\n",
    "def haversine_distance(lon1, lat1, lon2, lat2):\n",
    "\n",
    "    a = math.sin(math.radians((lat2 - lat1) / 2.0)) ** 2 + math.cos(math.radians(lat1)) * math.cos(\n",
    "        math.radians(lat2)) * math.sin(math.radians((lon2 - lon1) / 2.0)) ** 2\n",
    "    c = 2 * math.atan2(math.sqrt(a), math.sqrt(1 - a))\n",
    "    return EARTH_RADIUS * c\n",
    "\n",
    "def split_roi_to_rois(lon1_, lat1_, lon2_, lat2_, meters_split = 1500):\n",
    "\n",
    "    lon1, lat1, lon2, lat2 = min(lon1_, lon2_), min(lat1_,lat2_), max(lon1_, lon2_), max(lat1_, lat2_)\n",
    "\n",
    "    delta_lon_m = haversine_distance(lon1=lon1,lat1=lat1,lon2=lon2,lat2=lat1)\n",
    "    delta_lat_m = haversine_distance(lon1=lon1,lat1=lat1,lon2=lon1,lat2=lat2)\n",
    "    rois = []\n",
    "\n",
    "    N_lon, N_lat = map(lambda x: int(math.ceil(x / meters_split)), [delta_lon_m,delta_lat_m])\n",
    "\n",
    "    delta_lon, delta_lat = (lon2-lon1, lat2 - lat1)\n",
    "    for i in range(N_lat):\n",
    "        for j in range(N_lon):\n",
    "            ind = i * N_lon + j\n",
    "            rois.append({\"roi\": (\n",
    "                                lat1 + (delta_lat) * i / N_lat,\n",
    "                                lon1 + (delta_lon) * j / N_lon,\n",
    "                                lat1 + (delta_lat) * (i + 1) / N_lat,\n",
    "                                lon1 + (delta_lon) * (j + 1) / N_lon),\n",
    "                        \"name\": \"{}\".format(ind)})\n",
    "\n",
    "    return rois\n",
    "\n",
    "def to_bbox(roi_lon_lat):\n",
    "    if isinstance(roi_lon_lat, str):\n",
    "        roi_lon1, roi_lat1, roi_lon2, roi_lat2 = map(float, re.split(',', roi_lon_lat))\n",
    "    else:\n",
    "        roi_lon1, roi_lat1, roi_lon2, roi_lat2 = roi_lon_lat\n",
    "\n",
    "    geo_pts_ref = [(roi_lon1, roi_lat1), (roi_lon1, roi_lat2), (roi_lon2, roi_lat2), (roi_lon2, roi_lat1)]\n",
    "    return geo_pts_ref\n",
    "\n",
    "\n",
    "\n",
    "def convert_to_shp(points):\n",
    "    if points.endswith('.kml'):\n",
    "        new_points=points.replace('.kml','.shp')\n",
    "        srcDS = gdal.OpenEx(points)\n",
    "        ds = gdal.VectorTranslate(new_points, srcDS, format='ESRI Shapefile')\n",
    "        ds = None\n",
    "        points = new_points\n",
    "    else:\n",
    "        print('not converted')\n",
    "    return points \n"
   ]
  },
  {
   "cell_type": "code",
   "execution_count": null,
   "metadata": {},
   "outputs": [],
   "source": [
    "list_tif = glob.glob(folder_inference+'/T*.tif')\n",
    "list_names = [x.split('/')[-1] for x in list_tif]\n",
    "list_names = {x.split('_')[0][1:] for x in list_names}"
   ]
  },
  {
   "cell_type": "code",
   "execution_count": null,
   "metadata": {},
   "outputs": [],
   "source": [
    "print(len(list_tif))"
   ]
  },
  {
   "cell_type": "code",
   "execution_count": null,
   "metadata": {},
   "outputs": [],
   "source": [
    "geo_pts = []\n",
    "for tif_ in list_tif:\n",
    "    ds = gdal.Open(tif_)\n",
    "    geo_pts.extend(gp.get_lonlat(ds))\n",
    "geo_pts = np.array(geo_pts)\n",
    "lon1_,lon2_ = geo_pts[:,0].min(),geo_pts[:,0].max()\n",
    "lat1_,lat2_ = geo_pts[:,1].min(),geo_pts[:,1].max()"
   ]
  },
  {
   "cell_type": "code",
   "execution_count": null,
   "metadata": {},
   "outputs": [],
   "source": [
    "print(lon1_,lon2_)"
   ]
  },
  {
   "cell_type": "code",
   "execution_count": null,
   "metadata": {},
   "outputs": [],
   "source": [
    "size = 100000\n",
    "roi_ = split_roi_to_rois(lon1_, lat1_, lon2_, lat2_,size)\n",
    "print(len(roi_))"
   ]
  },
  {
   "cell_type": "code",
   "execution_count": null,
   "metadata": {},
   "outputs": [],
   "source": [
    "save_folder = f'{folder_inference}/tiles{size//1000}km'\n",
    "if not os.path.isdir(save_folder+'/vrt'):\n",
    "    os.makedirs(save_folder+'/vrt')\n"
   ]
  },
  {
   "cell_type": "code",
   "execution_count": null,
   "metadata": {},
   "outputs": [],
   "source": [
    "save_folder"
   ]
  },
  {
   "cell_type": "code",
   "execution_count": null,
   "metadata": {},
   "outputs": [],
   "source": [
    "import simplekml\n",
    "# kmlfile_name = '/scratch2/Dropbox/Dropbox/temp/grid_temp.kml'\n",
    "kmlfile_name = f'{save_folder}/grid.kml'\n",
    "kml = simplekml.Kml()\n",
    "for roi in roi_:\n",
    "    lat1, lon1, lat2, lon2 = roi[\"roi\"]\n",
    "    # print roi\n",
    "\n",
    "    geo_pts_ref = to_bbox([lon1, lat1, lon2, lat2])\n",
    "    geo_pts_ref.append(geo_pts_ref[0])\n",
    "    pol = kml.newpolygon(name=roi['name'])\n",
    "    # pol.innerboundaryis = geo_pts_ref\n",
    "    pol.addfileouterboundaryis = geo_pts_ref\n",
    "    pol.outerboundaryis = geo_pts_ref\n",
    "\n",
    "    # pol.style.polystyle.color = simplekml.Color.changealphaint(100, simplekml.Color.white)\n",
    "\n",
    "kml.save(kmlfile_name)\n",
    "grid_file = convert_to_shp(kmlfile_name)\n",
    "# print(kmlfile_name)"
   ]
  },
  {
   "cell_type": "markdown",
   "metadata": {},
   "source": [
    "### Find the matching s2 tiles for each feature in the grid"
   ]
  },
  {
   "cell_type": "code",
   "execution_count": null,
   "metadata": {},
   "outputs": [],
   "source": [
    "grid_file = '/scratch/andresro/leon_work/sparse/inference/palm4_act_simpleA9_soft_ens5/tiles100km/grid.shp'"
   ]
  },
  {
   "cell_type": "code",
   "execution_count": null,
   "metadata": {},
   "outputs": [],
   "source": [
    "sentinel_2tiles = '/home/pf/pfstaff/projects/andresro/barry_palm/data/labels/sentinel2_tiles_world/sentinel2_tiles_world.shp'"
   ]
  },
  {
   "cell_type": "code",
   "execution_count": null,
   "metadata": {},
   "outputs": [],
   "source": [
    "vector_s2 = ogr.Open(sentinel_2tiles)\n",
    "layer_s2 = vector_s2.GetLayer()\n",
    "\n",
    "\n",
    "feat_list = []\n",
    "for i in range(layer_s2.GetFeatureCount()):\n",
    "    feature_s2 = layer_s2.GetFeature(i)\n",
    "    if feature_s2.GetField('NAME') in list_names:\n",
    "        feat_list.append(i)\n",
    "\n",
    "\n",
    "def get_s2_matches(ref_geom):\n",
    "    out_tiles = []\n",
    "    for i_ in feat_list:\n",
    "        feature_s2 = layer_s2.GetFeature(i_)\n",
    "        geom_s2 = feature_s2.GetGeometryRef()\n",
    "        if ref_geom.Intersects(geom_s2):\n",
    "            out_tiles.append(feature_s2.GetField('NAME'))\n",
    "    return out_tiles\n",
    "    "
   ]
  },
  {
   "cell_type": "code",
   "execution_count": null,
   "metadata": {},
   "outputs": [],
   "source": [
    "len(feat_list)"
   ]
  },
  {
   "cell_type": "code",
   "execution_count": null,
   "metadata": {},
   "outputs": [],
   "source": [
    "# grid_vector = ogr.Open(kmlfile_name)\n",
    "grid_vector = ogr.Open(grid_file)\n",
    "grid_layer = grid_vector.GetLayer()\n",
    "grid_layer.GetFeatureCount()"
   ]
  },
  {
   "cell_type": "code",
   "execution_count": null,
   "metadata": {},
   "outputs": [],
   "source": [
    "dict_features = dict()\n",
    "for i in range(grid_layer.GetFeatureCount()):\n",
    "    feature = grid_layer.GetFeature(i)\n",
    "    vectorGeometry = feature.GetGeometryRef()\n",
    "    tiles_area = get_s2_matches(vectorGeometry)\n",
    "    if len(tiles_area) > 0:\n",
    "        dict_features[i] = tiles_area\n",
    "print(len(dict_features.keys()))"
   ]
  },
  {
   "cell_type": "code",
   "execution_count": null,
   "metadata": {},
   "outputs": [],
   "source": [
    "import os\n",
    "\n",
    "def rename_(x, suffix= '_nan'):\n",
    "    file = os.path.basename(x)\n",
    "    file =  file.replace('.tif',f'{suffix}.vrt')\n",
    "    return os.path.join(save_folder,'vrt',file)\n"
   ]
  },
  {
   "cell_type": "code",
   "execution_count": null,
   "metadata": {},
   "outputs": [],
   "source": [
    "from tqdm.notebook import tqdm"
   ]
  },
  {
   "cell_type": "code",
   "execution_count": null,
   "metadata": {},
   "outputs": [],
   "source": [
    "os.chdir(folder_inference)"
   ]
  },
  {
   "cell_type": "code",
   "execution_count": null,
   "metadata": {},
   "outputs": [],
   "source": [
    "os.getcwd()"
   ]
  },
  {
   "cell_type": "code",
   "execution_count": null,
   "metadata": {},
   "outputs": [],
   "source": [
    "\n",
    "# i = 310\n",
    "# if True:\n",
    "#     tiles = dict_features[i]\n",
    "for i, tiles in tqdm(dict_features.items()):\n",
    "    \n",
    "    tiles = dict_features[i]\n",
    "    names = [f'{folder_inference}/T{x}_5_preds_reg_12_12.tif' for x in tiles]\n",
    "        \n",
    "    feature = grid_layer.GetFeature(i)\n",
    "    vectorGeometry = feature.GetGeometryRef()\n",
    "\n",
    "    minX, maxX, minY, maxY = vectorGeometry.GetEnvelope()\n",
    "    \n",
    "\n",
    "    ref_proj = 'EPSG:4326'\n",
    "    # Other projections do not work if the ref shp file is not in the same proj\n",
    "#     ref_proj = 'EPSG:32751'\n",
    "#     ds_ref = gdal.Open(names[0])\n",
    "#     ref_proj = ds_ref.GetProjectionRef()\n",
    "\n",
    "    warp_opts = gdal.WarpOptions(\n",
    "        format=\"VRT\",\n",
    "        srcNodata=99,\n",
    "        dstSRS=ref_proj,\n",
    "        dstNodata='nan',\n",
    "        outputBounds=[minX, minY, maxX, maxY],cutlineLayer=grid_layer, cropToCutline=True\n",
    "        )\n",
    "    \n",
    "    new_names = [rename_(x,suffix=f'_tile{i}_{ref_proj}'.replace(':','_')) for x in names]\n",
    "    ds_warped = [gdal.Warp(x1, x, options=warp_opts) for (x,x1) in zip(names,new_names)]\n",
    "    assert ds_warped[0] is not None\n",
    "    \n",
    "    my_vrt = gdal.BuildVRT(f'{save_folder}/{i}.vrt',new_names)\n",
    "    my_vrt = None\n",
    "    # print(f'{folder_inference}/tiles/{i}.vrt','saved!')\n",
    "\n",
    "    \n"
   ]
  },
  {
   "cell_type": "code",
   "execution_count": null,
   "metadata": {},
   "outputs": [],
   "source": [
    "new_names"
   ]
  },
  {
   "cell_type": "code",
   "execution_count": null,
   "metadata": {},
   "outputs": [],
   "source": []
  }
 ],
 "metadata": {
  "kernelspec": {
   "display_name": "Python [conda env:gdal304]",
   "language": "python",
   "name": "conda-env-gdal304-py"
  },
  "language_info": {
   "codemirror_mode": {
    "name": "ipython",
    "version": 3
   },
   "file_extension": ".py",
   "mimetype": "text/x-python",
   "name": "python",
   "nbconvert_exporter": "python",
   "pygments_lexer": "ipython3",
   "version": "3.7.6"
  }
 },
 "nbformat": 4,
 "nbformat_minor": 4
}
