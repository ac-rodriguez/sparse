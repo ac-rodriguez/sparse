{
 "cells": [
  {
   "cell_type": "code",
   "execution_count": null,
   "metadata": {},
   "outputs": [],
   "source": [
    "from osgeo import gdal, osr, ogr, gdalconst\n",
    "import os\n",
    "import numpy as np\n",
    "from shapely.geometry import mapping, shape\n",
    "from shapely.wkt import loads\n",
    "from shapely.geometry import Polygon\n",
    "import json\n",
    "import xml.etree.ElementTree as ET \n",
    "import glob\n",
    "%matplotlib inline\n",
    "import matplotlib.pyplot as plt\n",
    "import matplotlib.gridspec as gridspec\n",
    "import pandas as pd\n",
    "# from sentinelsat import SentinelAPI, read_geojson, geojson_to_wkt\n",
    "from datetime import date\n",
    "\n",
    "from tqdm.notebook import tqdm, tnrange"
   ]
  },
  {
   "cell_type": "code",
   "execution_count": null,
   "metadata": {},
   "outputs": [],
   "source": [
    "def plot_sentinel2(path, ref_tile):\n",
    "    list1 = glob.glob(path+'/*{}*'.format(ref_tile))\n",
    "    list2 = sorted([glob.glob(x+\"/GRANULE/*/IMG_DATA/R60m/*_TCI_60m.jp2\") for x in list1])\n",
    "\n",
    "    ncols=4\n",
    "    fig = plt.figure(figsize=(10,15))\n",
    "    gs = gridspec.GridSpec(ncols=ncols, nrows=len(list2)//ncols +1) #width_ratios= [1, 1], #height_ratios=[1, 1],\n",
    "\n",
    "    medians = []\n",
    "    masks = []\n",
    "\n",
    "    for count, id_ in enumerate(list2):\n",
    "        if len(id_) > 0:\n",
    "            ds = gdal.Open(id_[0])\n",
    "            array = ds.ReadAsArray()\n",
    "            array = array.transpose().swapaxes(0, 1)\n",
    "\n",
    "            ax = plt.subplot(gs[count])\n",
    "\n",
    "            ax.imshow(array)\n",
    "            ax.axis('off')\n",
    "\n",
    "    #         plt.imshow(array)\n",
    "            print(count, id_[0].split('/')[-6])\n",
    "            ax.set_title(count)\n",
    "\n",
    "            mask_ = (array == 0).all(axis=-1)\n",
    "\n",
    "            medians.append(array)\n",
    "            try:\n",
    "\n",
    "                ds = gdal.Open(id_[0].replace('TCI_60m','SCL_60m'))\n",
    "                arrayscl = ds.ReadAsArray()\n",
    "                arrayscl = arrayscl.transpose().swapaxes(0, 1)\n",
    "                mask_ = np.logical_or(mask_, arrayscl==3)\n",
    "                mask_ = np.logical_or(mask_, arrayscl == 11)\n",
    "                mask_ = np.logical_or(mask_, arrayscl == 6)\n",
    "\n",
    "\n",
    "                id_cld = glob.glob(id_[0].split('/IMG_DATA/')[0]+'/QI_DATA/*CLD*_60m.jp2')[0]\n",
    "                array_cld = ds.ReadAsArray()\n",
    "                array_cld = array_cld.transpose().swapaxes(0, 1)\n",
    "                mask_ = np.logical_or(mask_, array_cld > 5)\n",
    "            except IndexError:\n",
    "                print('error in cld, or SCL',count)\n",
    "\n",
    "            mask_ = np.repeat(mask_[...,np.newaxis], 3, axis=-1)\n",
    "            masks.append(mask_)\n",
    "\n",
    "\n",
    "\n",
    "    mask_ = np.stack(masks)\n",
    "    median_ = np.ma.masked_array(np.stack(medians), mask_)\n",
    "    median_ = np.ma.median(median_,axis=0) /255.0\n",
    "    ax = plt.subplot(gs[-1])\n",
    "    ax.imshow(median_)\n",
    "\n",
    "    ax.axis('off')\n",
    "    ax.set_title('median')\n",
    "\n",
    "    plt.show()\n",
    "\n",
    "    plt.imshow(median_)\n",
    "    plt.axis('off')\n",
    "    plt.title('median'+ref_tile)"
   ]
  },
  {
   "cell_type": "code",
   "execution_count": null,
   "metadata": {},
   "outputs": [],
   "source": [
    "def get_median_sentinel2(path, ref_tile):\n",
    "    list1 = glob.glob(path+'/*{}*'.format(ref_tile))\n",
    "    list2 = [glob.glob(x+\"/GRANULE/*/IMG_DATA/R60m/*_TCI_60m.jp2\") for x in list1]\n",
    "\n",
    "    medians = []\n",
    "    masks = []\n",
    "\n",
    "    for count, id_ in enumerate(list2):\n",
    "        if len(id_) > 0:\n",
    "            ds = gdal.Open(id_[0])\n",
    "            array = ds.ReadAsArray()\n",
    "            array = array.transpose().swapaxes(0, 1)\n",
    "\n",
    "\n",
    "#            print(count, id_[0].split('/')[-6])\n",
    "\n",
    "            mask_ = (array == 0).all(axis=-1)\n",
    "\n",
    "            medians.append(array)\n",
    "            try:\n",
    "\n",
    "\n",
    "                ds = gdal.Open(id_[0].replace('TCI_60m','SCL_60m'))\n",
    "                \n",
    "                arrayscl = ds.ReadAsArray()\n",
    "                arrayscl = arrayscl.transpose().swapaxes(0, 1)\n",
    "                mask_ = np.logical_or(mask_, arrayscl==3)\n",
    "                mask_ = np.logical_or(mask_, arrayscl == 11)\n",
    "                mask_ = np.logical_or(mask_, arrayscl == 6)\n",
    "\n",
    "                print(id_[0].split('/IMG_DATA/')[0]+'/QI_DATA/*CLD*_60m.jp2')\n",
    "                id_cld = glob.glob(id_[0].split('/IMG_DATA/')[0]+'/QI_DATA/*CLD*_60m.jp2')[0]\n",
    "\n",
    "#                 if not os.path.isfile(id_[0].replace('TCI_60m','SCL_60m')):\n",
    "#                     print('error SCL',id_[0].replace('TCI_60m','SCL_60m'))\n",
    "                \n",
    "                ds = gdal.Open(id_cld)\n",
    "                array_cld = ds.ReadAsArray()\n",
    "                array_cld = array_cld.transpose().swapaxes(0, 1)\n",
    "                mask_ = np.logical_or(mask_, array_cld > 5)\n",
    "            except IndexError:\n",
    "                print('error in cld, or SCL',count)\n",
    "\n",
    "            mask_ = np.repeat(mask_[...,np.newaxis], 3, axis=-1)\n",
    "            masks.append(mask_)\n",
    "\n",
    "\n",
    "\n",
    "    mask_ = np.stack(masks)\n",
    "    median_ = np.ma.masked_array(np.stack(medians), mask_)\n",
    "    median_ = np.ma.median(median_,axis=0) /255.0\n",
    "    \n",
    "    return median_\n",
    "    \n"
   ]
  },
  {
   "cell_type": "code",
   "execution_count": null,
   "metadata": {
    "jupyter": {
     "outputs_hidden": true
    }
   },
   "outputs": [],
   "source": [
    "plot_sentinel2(path='/scratch/andresro/leon_work/barry_palm/data/2A/phillipines_2017/',\n",
    "ref_tile='T51PXP')"
   ]
  },
  {
   "cell_type": "code",
   "execution_count": null,
   "metadata": {},
   "outputs": [],
   "source": [
    "# tiles = ['T50NRG', 'T50MQE', 'T47NKB', '51LVL', '48NVG', '50NMF', '49MGS']\n",
    "# tiles = ['50NMF', '49MGS']\n",
    "tiles = ['47MRS','47NLC',]\n",
    "for tile in tiles:\n",
    "    plot_sentinel2(path='/scratch/andresro/leon_work/barry_palm/data/2A/palmcountries_2017',\n",
    "        ref_tile=tile)"
   ]
  },
  {
   "cell_type": "code",
   "execution_count": null,
   "metadata": {},
   "outputs": [],
   "source": [
    "path = '/scratch/andresro/leon_igp/barry_palm/data/2A/palmcountries_2017'\n",
    "\n",
    "# ref_tile='R018_T47NQA_'\n",
    "ref_tile ='T50_MMD'\n",
    "\n",
    "list1 = glob.glob(path+'/*{}*'.format(ref_tile))\n",
    "list2 = [glob.glob(x+\"/GRANULE/*/IMG_DATA/R60m/*_TCI_60m.jp2\") for x in list1]\n",
    "\n",
    "\n",
    "fig = plt.figure(figsize=(20,12))\n",
    "gs = gridspec.GridSpec(ncols=4, nrows=len(list2)//4 +1) #width_ratios= [1, 1], #height_ratios=[1, 1],\n",
    "\n",
    "    \n",
    "    \n",
    "for count, id_ in enumerate(list2):\n",
    "    if len(id_) > 0:\n",
    "        ds = gdal.Open(id_[0])\n",
    "        array = ds.ReadAsArray()\n",
    "        array = array.transpose().swapaxes(0, 1)\n",
    "        \n",
    "        ax = plt.subplot(gs[count])\n",
    "    \n",
    "        ax.imshow(array)\n",
    "    \n",
    "#         plt.imshow(array)\n",
    "        print(count, id_[0].split('/')[-6])\n",
    "        ax.set_title(count)\n",
    "plt.show()"
   ]
  },
  {
   "cell_type": "code",
   "execution_count": null,
   "metadata": {},
   "outputs": [],
   "source": [
    "path = '/scratch/andresro/leon_igp/barry_palm/data/2A/phillipines_2017'\n",
    "# path = '/scratch/andresro/leon_igp/barry_palm/data/1C/phillipines_2017/PRODUCT'\n",
    "ref_tile='R046_T50PNQ'\n",
    "\n",
    "\n",
    "list1 = glob.glob(path+'/*{}*'.format(ref_tile))\n",
    "list2 = [glob.glob(x+\"/GRANULE/*/IMG_DATA/R60m/*_TCI_60m.jp2\") for x in list1]\n",
    "\n",
    "\n",
    "fig = plt.figure(figsize=(20,12))\n",
    "gs = gridspec.GridSpec(ncols=4, nrows=len(list2)//4 +1) #width_ratios= [1, 1], #height_ratios=[1, 1],\n",
    "\n",
    "    \n",
    "    \n",
    "for count, id_ in enumerate(list2):\n",
    "    if len(id_) > 0:\n",
    "        ds = gdal.Open(id_[0])\n",
    "        array = ds.ReadAsArray()\n",
    "        array = array.transpose().swapaxes(0, 1)\n",
    "        \n",
    "        ax = plt.subplot(gs[count])\n",
    "    \n",
    "        ax.imshow(array)\n",
    "    \n",
    "#         plt.imshow(array)\n",
    "        print(count, id_[0].split('/')[-6])\n",
    "        ax.set_title(count)\n",
    "plt.show()"
   ]
  },
  {
   "cell_type": "code",
   "execution_count": null,
   "metadata": {},
   "outputs": [],
   "source": [
    "path = '/scratch/andresro/leon_igp/barry_palm/data/2A/phillipines_2017'\n",
    "# path = '/scratch/andresro/leon_igp/barry_palm/data/1C/phillipines_2017/PRODUCT'\n",
    "ref_tile='R046_T50PNQ'\n",
    "\n",
    "\n",
    "list1 = glob.glob(path+'/*{}*'.format(ref_tile))\n",
    "# print(list1)\n",
    "# list2 = [glob.glob(x+\"/**/*.jp2\", recursive=True) for x in list1]\n",
    "list2 = [glob.glob(x+\"/GRANULE/*/IMG_DATA/*/*.jp2\", recursive=True) for x in list1]\n",
    "for i in list2[0]:\n",
    "    print(i.split('/')[-1])\n",
    "\n"
   ]
  },
  {
   "cell_type": "code",
   "execution_count": null,
   "metadata": {},
   "outputs": [],
   "source": [
    "path = '/scratch/andresro/leon_work/barry_palm/data/2A/palmcountries_2017'\n",
    "ref_tile='T50MRD'\n",
    "\n",
    "\n",
    "list1 = glob.glob(path+'/*{}*'.format(ref_tile))\n",
    "\n",
    "# print(list1)\n",
    "#list2 = [glob.glob(x+\"/GRANULE/*/IMG_DATA/*/*.jp2\", recursive=True) for x in list1]\n",
    "\n",
    "list2 = [glob.glob(x+\"/GRANULE/*/IMG_DATA/R60m/*_TCI_60m.jp2\") for x in list1]\n",
    "for i in list2[0]:\n",
    "    print(i.split('/')[-1])\n"
   ]
  },
  {
   "cell_type": "code",
   "execution_count": null,
   "metadata": {},
   "outputs": [],
   "source": [
    "len(list1),len(list2[0])"
   ]
  },
  {
   "cell_type": "code",
   "execution_count": null,
   "metadata": {},
   "outputs": [],
   "source": [
    "list2"
   ]
  },
  {
   "cell_type": "code",
   "execution_count": null,
   "metadata": {},
   "outputs": [],
   "source": [
    "import sys, os\n",
    "sys.path.insert(0, os.path.dirname(os.getcwd()))\n",
    "sys.path.insert(0, os.getcwd())\n",
    "\n",
    "\n",
    "import utils.gdal_processing as gp\n"
   ]
  },
  {
   "cell_type": "code",
   "execution_count": null,
   "metadata": {},
   "outputs": [],
   "source": [
    "\n",
    "len(list2[0])"
   ]
  },
  {
   "cell_type": "code",
   "execution_count": null,
   "metadata": {},
   "outputs": [],
   "source": [
    "pa"
   ]
  },
  {
   "cell_type": "code",
   "execution_count": null,
   "metadata": {},
   "outputs": [],
   "source": [
    "# folder = 'palmcountries_2017'\n",
    "folder = 'asia_2019/PRODUCT'\n",
    "\n",
    "\n",
    "# path = '/scratch/andresro/leon_work/barry_palm/data/2A/'+folder\n",
    "path = '/home/pf/pfstaff/projects/andresro/barry_palm/data/2A/'+folder\n",
    "\n",
    "\n",
    "ref_tile='*'\n",
    "\n",
    "list1 = glob.glob(path+'/*{}*'.format(ref_tile))"
   ]
  },
  {
   "cell_type": "code",
   "execution_count": null,
   "metadata": {},
   "outputs": [],
   "source": [
    "len(list1)"
   ]
  },
  {
   "cell_type": "code",
   "execution_count": null,
   "metadata": {},
   "outputs": [],
   "source": [
    "lonlat = dict()\n",
    "lonlat_count = dict()\n",
    "\n",
    "for x1 in tqdm(list1):\n",
    "    x = glob.glob(x1+\"/GRANULE/*/IMG_DATA/R60m/*_TCI_60m.jp2\")\n",
    "    if len(x) > 0:\n",
    "        tile = x[0].split('_')[-4][-6:]\n",
    "        if not tile in lonlat.keys():\n",
    "            ds = gdal.Open(x[0])\n",
    "            lat,lon = gp.to_latlon(ds.RasterXSize//2, ds.RasterYSize//2,ds)\n",
    "        \n",
    "        lonlat[tile] = (lon,lat)\n",
    "        \n",
    "        if not tile in lonlat_count.keys():\n",
    "            lonlat_count[tile] = 1\n",
    "        else:\n",
    "            lonlat_count[tile]+= 1"
   ]
  },
  {
   "cell_type": "code",
   "execution_count": null,
   "metadata": {},
   "outputs": [],
   "source": [
    "counts = np.array([x for k, x in lonlat_count.items()])\n",
    "bins = np.arange(0, counts.max() + 1.5) - 0.5\n",
    "\n",
    "plt.hist(counts,bins=bins)"
   ]
  },
  {
   "cell_type": "code",
   "execution_count": null,
   "metadata": {},
   "outputs": [],
   "source": [
    "lonlat.keys()"
   ]
  },
  {
   "cell_type": "code",
   "execution_count": null,
   "metadata": {},
   "outputs": [],
   "source": [
    "np.unique(counts), len(counts)"
   ]
  },
  {
   "cell_type": "code",
   "execution_count": null,
   "metadata": {},
   "outputs": [],
   "source": [
    "import simplekml\n",
    "\n",
    "kml = simplekml.Kml()\n",
    "# kml.newschema(name='count')\n",
    "for key, val in lonlat.items():\n",
    "#for key, val in enumerate(lonlat):\n",
    "    #lat, lon = gp.to_latlon(val[1],val[0],ds_pred)\n",
    "    lon, lat = val\n",
    "    count = lonlat_count[key]\n",
    "    pnt = kml.newpoint(name=f'{key} {count}', coords=[(lon, lat)])\n",
    "    pnt.extendeddata.newdata('count',count)\n",
    "\n",
    "filename_ = f'/scratch2/Dropbox/Dropbox/0_phd/temp/{folder}.kml'.replace('/PRODUCT','')\n",
    "\n",
    "kml.save(filename_)\n",
    "print(filename_,'saved')"
   ]
  },
  {
   "cell_type": "code",
   "execution_count": null,
   "metadata": {},
   "outputs": [],
   "source": [
    "filename_"
   ]
  },
  {
   "cell_type": "code",
   "execution_count": null,
   "metadata": {},
   "outputs": [],
   "source": [
    "path_2A = '/cluster/work/igp_psr/andresro/barry_palm/data/2A/palmcountries_2017'"
   ]
  },
  {
   "cell_type": "code",
   "execution_count": null,
   "metadata": {},
   "outputs": [],
   "source": [
    "x = 'S2A_MSIL2A_20171028T033841_N0206_R118_T47MRS_20171028T083007'"
   ]
  },
  {
   "cell_type": "code",
   "execution_count": null,
   "metadata": {},
   "outputs": [],
   "source": [
    "get_jp2_count = lambda x: len(glob.glob(path_2A + '/' + x + '.SAFE/**/*.jp2', recursive=True))"
   ]
  },
  {
   "cell_type": "code",
   "execution_count": null,
   "metadata": {},
   "outputs": [],
   "source": [
    "get_jp2_count(x)"
   ]
  },
  {
   "cell_type": "code",
   "execution_count": null,
   "metadata": {},
   "outputs": [],
   "source": [
    "path_2A + '/' + x + '.SAFE/**/*.jp2'"
   ]
  },
  {
   "cell_type": "code",
   "execution_count": null,
   "metadata": {},
   "outputs": [],
   "source": []
  }
 ],
 "metadata": {
  "kernelspec": {
   "display_name": "Python [conda env:gdal233]",
   "language": "python",
   "name": "conda-env-gdal233-py"
  },
  "language_info": {
   "codemirror_mode": {
    "name": "ipython",
    "version": 3
   },
   "file_extension": ".py",
   "mimetype": "text/x-python",
   "name": "python",
   "nbconvert_exporter": "python",
   "pygments_lexer": "ipython3",
   "version": "3.7.7"
  }
 },
 "nbformat": 4,
 "nbformat_minor": 4
}
