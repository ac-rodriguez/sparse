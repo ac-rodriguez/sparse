{
 "cells": [
  {
   "cell_type": "code",
   "execution_count": null,
   "metadata": {},
   "outputs": [],
   "source": [
    "import requests\n",
    "from io import StringIO\n",
    "import pandas as pd\n",
    "import numpy as np\n",
    "from osgeo import osr, ogr\n"
   ]
  },
  {
   "cell_type": "code",
   "execution_count": null,
   "metadata": {},
   "outputs": [],
   "source": [
    "def isin(string_,list_):\n",
    "    return np.any([x in string_ for x in list_])"
   ]
  },
  {
   "cell_type": "markdown",
   "metadata": {},
   "source": [
    "## Read data from spreadsheet"
   ]
  },
  {
   "cell_type": "code",
   "execution_count": null,
   "metadata": {},
   "outputs": [],
   "source": [
    "key = '1-l2cmYpxRIplA8fRVm2qeZ52HeB2KNVc0gPnD2QHjmk'\n",
    "sheet_name = 'Tiles to label'\n",
    "string_ = f'https://docs.google.com/spreadsheet/ccc?key={key}&output=csv&sheet={sheet_name}'\n",
    "\n",
    "response = requests.get(string_)\n",
    "assert response.status_code == 200, 'Wrong status code'"
   ]
  },
  {
   "cell_type": "code",
   "execution_count": null,
   "metadata": {},
   "outputs": [],
   "source": [
    "print(string_)\n",
    "# response.content"
   ]
  },
  {
   "cell_type": "code",
   "execution_count": null,
   "metadata": {},
   "outputs": [],
   "source": [
    "\n",
    "df = pd.read_csv(StringIO(response.content.decode('utf-8')), sep=\",\", skiprows=1, usecols=range(9),index_col=2,\n",
    "                dtype={'Has Priority':str,\n",
    "                      'Responsible':str})\n",
    "df = df[df.index.notnull()]\n",
    "\n",
    "df['Has Priority'].fillna('', inplace=True)\n",
    "df['Responsible'].fillna('', inplace=True)\n",
    "def define_labeled(x):\n",
    "    if np.isnan(x['Areas Labeled']):\n",
    "        return 'No' if x['Responsible'] == '' else 'inprogress'\n",
    "    else:\n",
    "        return 'Yes'\n",
    "        \n",
    "df['labeled'] = df.apply(define_labeled, axis=1)\n"
   ]
  },
  {
   "cell_type": "code",
   "execution_count": null,
   "metadata": {},
   "outputs": [],
   "source": [
    "df['GT'] = df.apply(lambda x: x['Has Priority']+'_'+x['labeled'], axis=1)"
   ]
  },
  {
   "cell_type": "code",
   "execution_count": null,
   "metadata": {},
   "outputs": [],
   "source": [
    "dict_update = df['GT'].to_dict()"
   ]
  },
  {
   "cell_type": "code",
   "execution_count": null,
   "metadata": {},
   "outputs": [],
   "source": [
    "df[df.index == '47NRG']"
   ]
  },
  {
   "cell_type": "markdown",
   "metadata": {},
   "source": [
    "## Regionsate Sentinel-2 features with GT status"
   ]
  },
  {
   "cell_type": "code",
   "execution_count": null,
   "metadata": {},
   "outputs": [],
   "source": [
    "shp_file = '/scratch2/Dropbox/Dropbox/0_phd/yield/labels/sentinel2tiles/features_lab/Features.shp'\n"
   ]
  },
  {
   "cell_type": "code",
   "execution_count": null,
   "metadata": {},
   "outputs": [],
   "source": [
    "input_zone_polygon = shp_file\n",
    "is_update= True\n",
    "fieldname='labeled'\n",
    "# test_update = {'46NGL':'Yes'}\n",
    "# input_value_raster = , fieldname, fn, fieldname1=None, is_update=True):"
   ]
  },
  {
   "cell_type": "code",
   "execution_count": null,
   "metadata": {},
   "outputs": [],
   "source": [
    "# def loop_zonal_stats_update(input_zone_polygon, input_value_raster, fieldname, fn, fieldname1=None, is_update=True):\n",
    "\n",
    "shp = ogr.Open(input_zone_polygon, update=1)\n",
    "lyr = shp.GetLayer()\n",
    "lyrdf =lyr.GetLayerDefn()\n",
    "\n",
    "# TreeFieldName = 'TreePredAd1'\n",
    "if is_update:\n",
    "    id_ = lyrdf.GetFieldIndex(fieldname)\n",
    "    if id_ == -1:\n",
    "        field_defn = ogr.FieldDefn(fieldname, ogr.OFTString)\n",
    "        lyr.CreateField(field_defn)\n",
    "        id_ = lyrdf.GetFieldIndex(fieldname)\n",
    "    else:\n",
    "        print('Field {} already exists, may overwrite'.format(fieldname))\n",
    "\n",
    "#     if fieldname1 is not None:\n",
    "#         id_1 = lyrdf.GetFieldIndex(fieldname1)\n",
    "#         if id_1 == -1:\n",
    "#             field_defn = ogr.FieldDefn(fieldname1, ogr.OFTString)\n",
    "#             lyr.CreateField(field_defn)\n",
    "#             id_1 = lyrdf.GetFieldIndex(fieldname1)\n",
    "#         else:\n",
    "#             print('Field {} already exists, may overwrite'.format(fieldname1))\n",
    "#     else:\n",
    "#         id_1 = None\n",
    "\n",
    "\n",
    "id_Name = lyrdf.GetFieldIndex('Name')\n",
    "for FID in range(lyr.GetFeatureCount()):\n",
    "    feat = lyr.GetFeature(FID)\n",
    "    if feat is not None:\n",
    "        name_ = feat.GetField(id_Name)\n",
    "        if name_ in dict_update.keys():\n",
    "            val = dict_update[name_]\n",
    "#             print(name_, val)\n",
    "            \n",
    "            if is_update:\n",
    "    #             if id_1 is not None:\n",
    "    #                 val, val1 = val\n",
    "    #                 lyr.SetFeature(feat)\n",
    "    #                 feat.SetField(id_1, val1)\n",
    "    #                 lyr.SetFeature(feat)\n",
    "                lyr.SetFeature(feat)\n",
    "                feat.SetField(id_,val)\n",
    "                lyr.SetFeature(feat)\n",
    "\n"
   ]
  },
  {
   "cell_type": "markdown",
   "metadata": {},
   "source": [
    "## Val areas for palm4"
   ]
  },
  {
   "cell_type": "code",
   "execution_count": null,
   "metadata": {},
   "outputs": [],
   "source": [
    "# regions_ = ['Kalimantan Barat', 'Sarawak','Sabah', 'Kalimantan Utara']\n",
    "regions_ = ['Sulawesi', 'Gorontalo','Maluku','Papua','Irian Jaya Barat']\n",
    "tiles = list(df.loc[df.apply(lambda x: isin(x.Regions,regions_) and x['Areas Labeled'] > 0, axis=1)].index)\n",
    "tiles = [f'T{x}' for x in tiles]\n",
    "print(len(tiles))\n",
    "','.join(tiles)"
   ]
  },
  {
   "cell_type": "code",
   "execution_count": null,
   "metadata": {},
   "outputs": [],
   "source": [
    "tiles = list(df.loc[df.apply(lambda x: 'Kalimantan Barat' in x.Regions, axis=1)].index)\n",
    "tiles = ['T'+x for x in tiles]\n",
    "print(len(tiles))\n",
    "' '.join(tiles)"
   ]
  },
  {
   "cell_type": "markdown",
   "metadata": {},
   "source": [
    "## All areas to predict in Indo and Malaysia"
   ]
  },
  {
   "cell_type": "code",
   "execution_count": null,
   "metadata": {},
   "outputs": [],
   "source": [
    "df"
   ]
  },
  {
   "cell_type": "code",
   "execution_count": null,
   "metadata": {},
   "outputs": [],
   "source": [
    "# regions_ = ['Kalimantan Barat', 'Sarawak','Sabah', 'Kalimantan Utara']\n",
    "regions_ = ['Indonesia', 'Malaysia']\n",
    "tiles = list(df.loc[df.apply(lambda x: isin(x.Country,regions_), axis=1)].index)\n",
    "tiles = [f'T{x}' for x in tiles]\n",
    "print(len(tiles))\n",
    "' '.join(tiles)"
   ]
  },
  {
   "cell_type": "code",
   "execution_count": null,
   "metadata": {},
   "outputs": [],
   "source": [
    "tiles = list(df.loc[df.apply(lambda x: 'Kalimantan Barat' in x.Regions, axis=1)].index)\n",
    "tiles = ['T'+x for x in tiles]\n",
    "print(len(tiles))\n",
    "' '.join(tiles)"
   ]
  },
  {
   "cell_type": "code",
   "execution_count": null,
   "metadata": {},
   "outputs": [],
   "source": [
    "#regions_ = ['Kalimantan Barat', 'Sarawak','Sabah', 'Kalimantan Utara']\n",
    "regions_ = ['Kalimantan Tengah', 'Kalimantan Selatan','Kalimantan Timur']\n",
    "\n",
    "tiles = list(df.loc[df.apply(lambda x: isin(x.Regions,regions_) and x['Areas Labeled'] > 0, axis=1)].index)\n",
    "tiles = [f'T{x}' for x in tiles]\n",
    "print(len(tiles))\n",
    "','.join(tiles)"
   ]
  },
  {
   "cell_type": "code",
   "execution_count": null,
   "metadata": {},
   "outputs": [],
   "source": [
    "#regions_ = ['Kalimantan Barat', 'Sarawak','Sabah', 'Kalimantan Utara']\n",
    "regions_ = ['Riau']\n",
    "\n",
    "tiles = list(df.loc[df.apply(lambda x: isin(x.Regions,regions_) and x['Areas Labeled'] > 0, axis=1)].index)\n",
    "tiles = [f'T{x}' for x in tiles]\n",
    "print(len(tiles))\n",
    "','.join(tiles)"
   ]
  },
  {
   "cell_type": "code",
   "execution_count": null,
   "metadata": {},
   "outputs": [],
   "source": [
    "# regions_ = ['Kalimantan Barat', 'Sarawak','Sabah', 'Kalimantan Utara']\n",
    "regions_ = ['Kalimantan','Sarawak','Sabah']\n",
    "tiles = list(df.loc[df.apply(lambda x: isin(x.Regions,regions_) and x['Areas Labeled'] > 0, axis=1)].index)\n",
    "tiles = [f'T{x}' for x in tiles]\n",
    "print(len(tiles))\n",
    "','.join(tiles)"
   ]
  },
  {
   "cell_type": "code",
   "execution_count": null,
   "metadata": {},
   "outputs": [],
   "source": [
    "# regions_ = ['Kalimantan Barat', 'Sarawak','Sabah', 'Kalimantan Utara']\n",
    "regions_ = ['Sulawesi', 'Gorontalo']\n",
    "tiles = list(df.loc[df.apply(lambda x: (isin(x.Regions,regions_) or x.Country == 'Phillipines') and x['Areas Labeled'] > 0, axis=1)].index)\n",
    "tiles = [f'T{x}' for x in tiles]\n",
    "print(len(tiles))\n",
    "','.join(tiles)"
   ]
  },
  {
   "cell_type": "code",
   "execution_count": null,
   "metadata": {},
   "outputs": [],
   "source": [
    "#regions_ = ['Kalimantan Barat', 'Sarawak','Sabah', 'Kalimantan Utara']\n",
    "regions_ = ['Kalimantan', 'Sarawak', 'Sabah']\n",
    "\n",
    "tiles = list(df.loc[df.apply(lambda x: isin(x.Regions,regions_), axis=1)].index)\n",
    "tiles = [f'T{x}' for x in tiles]\n",
    "print(len(tiles))\n",
    "' '.join(tiles)"
   ]
  },
  {
   "cell_type": "code",
   "execution_count": null,
   "metadata": {},
   "outputs": [],
   "source": [
    "#regions_ = ['Kalimantan Barat', 'Sarawak','Sabah', 'Kalimantan Utara']\n",
    "regions_ = ['Sulawesi', 'Gorontalo']\n",
    "\n",
    "tiles = list(df.loc[df.apply(lambda x: isin(x.Regions,regions_), axis=1)].index)\n",
    "tiles = [f'T{x}' for x in tiles]\n",
    "print(len(tiles))\n",
    "' '.join(tiles)"
   ]
  },
  {
   "cell_type": "code",
   "execution_count": null,
   "metadata": {},
   "outputs": [],
   "source": [
    "#regions_ = ['Kalimantan Barat', 'Sarawak','Sabah', 'Kalimantan Utara']\n",
    "regions_ = ['Palawan']\n",
    "\n",
    "tiles = list(df.loc[df.apply(lambda x: isin(x.Regions,regions_), axis=1)].index)\n",
    "tiles = [f'T{x}' for x in tiles]\n",
    "print(len(tiles))\n",
    "' '.join(tiles)"
   ]
  },
  {
   "cell_type": "code",
   "execution_count": null,
   "metadata": {},
   "outputs": [],
   "source": [
    "tiles = set(df.loc[np.logical_and(df.Country == 'Phillipines'].index)\n",
    "tiles = [f'T{x}' for x in tiles]\n",
    "print(len(tiles))\n",
    "' '.join(tiles)"
   ]
  },
  {
   "cell_type": "code",
   "execution_count": null,
   "metadata": {},
   "outputs": [],
   "source": [
    "tiles = set(df.loc[df.Country == 'Phillipines'].index)\n",
    "tiles = sorted([f'T{x}' for x in tiles])\n",
    "print(len(tiles))\n",
    "' '.join(tiles)"
   ]
  },
  {
   "cell_type": "code",
   "execution_count": null,
   "metadata": {},
   "outputs": [],
   "source": [
    "isin(df.index,['46','47'])"
   ]
  },
  {
   "cell_type": "code",
   "execution_count": null,
   "metadata": {},
   "outputs": [],
   "source": [
    "# regions_ = ['Kalimantan Barat', 'Sarawak','Sabah', 'Kalimantan Utara']\n",
    "regions_ = ['47','48']\n",
    "tiles = list(df.loc[df.apply(lambda x: isin(x.index,regions_) and x['Areas Labeled'] > 0, axis=1)].index)\n",
    "tiles = [f'T{x}' for x in tiles]\n",
    "print(len(tiles))\n",
    "','.join(tiles)"
   ]
  },
  {
   "cell_type": "code",
   "execution_count": null,
   "metadata": {},
   "outputs": [],
   "source": [
    "# regions_ = ['Kalimantan Barat', 'Sarawak','Sabah', 'Kalimantan Utara']\n",
    "regions_ = ['47','48']\n",
    "tiles = list(df[[isin(x,regions_) for x in df.index]].index)\n",
    "tiles = [f'T{x}' for x in tiles]\n",
    "print(len(tiles))\n",
    "' '.join(tiles)"
   ]
  },
  {
   "cell_type": "code",
   "execution_count": null,
   "metadata": {},
   "outputs": [],
   "source": [
    "df[[isin(x,regions_) for x in df.index]].index"
   ]
  },
  {
   "cell_type": "code",
   "execution_count": null,
   "metadata": {},
   "outputs": [],
   "source": []
  }
 ],
 "metadata": {
  "kernelspec": {
   "display_name": "Python [conda env:gdal233]",
   "language": "python",
   "name": "conda-env-gdal233-py"
  },
  "language_info": {
   "codemirror_mode": {
    "name": "ipython",
    "version": 3
   },
   "file_extension": ".py",
   "mimetype": "text/x-python",
   "name": "python",
   "nbconvert_exporter": "python",
   "pygments_lexer": "ipython3",
   "version": "3.7.7"
  }
 },
 "nbformat": 4,
 "nbformat_minor": 4
}
