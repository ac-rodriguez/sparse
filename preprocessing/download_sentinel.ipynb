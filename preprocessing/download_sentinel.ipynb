{
 "cells": [
  {
   "cell_type": "markdown",
   "metadata": {},
   "source": [
    "## Downloading Sentinel-2 imagery\n",
    "\n",
    "This script can be used to download all sentinel-2 images inside a geographical area defined by a `.shp` file and certain time-range. For large areas, this process will take a long time since the bandwitdh for downloading from ESA is not too large, you can use this script to query only the tiles to be downloaded and save it as a `.pkl` file. Then you can use `download1C_df.sh` to load the `.pkl` file and download then.\n"
   ]
  },
  {
   "cell_type": "code",
   "execution_count": 4,
   "metadata": {},
   "outputs": [],
   "source": [
    "from osgeo import gdal, osr, ogr, gdalconst\n",
    "import os\n",
    "import numpy as np\n",
    "from shapely.geometry import mapping, shape\n",
    "from shapely.wkt import loads\n",
    "from shapely.geometry import Polygon\n",
    "import json\n",
    "import xml.etree.ElementTree as ET \n",
    "import glob\n",
    "%matplotlib inline\n",
    "import pandas as pd\n",
    "from sentinelsat import SentinelAPI, read_geojson, geojson_to_wkt\n",
    "from datetime import date\n"
   ]
  },
  {
   "cell_type": "markdown",
   "metadata": {},
   "source": [
    "## Set parameters"
   ]
  },
  {
   "cell_type": "markdown",
   "metadata": {},
   "source": [
    "Download the .shp files from [here](https://www.diva-gis.org/gdata) for each country of interest"
   ]
  },
  {
   "cell_type": "markdown",
   "metadata": {},
   "source": [
    "## Load the country shape file"
   ]
  },
  {
   "cell_type": "code",
   "execution_count": 3,
   "metadata": {},
   "outputs": [
    {
     "name": "stdout",
     "output_type": "stream",
     "text": [
      "product_dir:  /scratch/andresro/leon_igp/barry_palm/data/1C/palmcountries_2017/PRODUCT\n"
     ]
    }
   ],
   "source": [
    "root_dir = '/scratch/andresro/leon_igp/barry_palm/data'\n",
    "#root_dir = '/home/pf/pfstaff/projects/andresro/barry_palm/data'\n",
    "\n",
    "country='Malaysia'\n",
    "\n",
    "if country == 'Phillipines':\n",
    "    loc='phillipines_2017'\n",
    "    adm1_path = '/home/pf/pfstaff/projects/andresro/data/countries/phillipines/PHL_adm1.shp'\n",
    "    NAME = 'all'\n",
    "#     NAME = ['Palawan','Cebu','Davao del Norte','Davao del Sur','Davao Oriental','Batangas','Quezon','Rizal','Laguna']\n",
    "elif country == 'Malaysia':\n",
    "    loc='palmcountries_2017'\n",
    "    NAME = 'all'\n",
    "    adm1_path = '/home/pf/pfstaff/projects/andresro/data/countries/malaysia/MYS_adm1.shp'\n",
    "#     NAME=['Sarawak']\n",
    "elif country == 'Indonesia':\n",
    "    loc='palmcountries_2017'\n",
    "    adm1_path = '/home/pf/pfstaff/projects/andresro/data/countries/indonesia/IDN_adm1.shp'\n",
    "    NAME = 'all'\n",
    "#     NAME = ['Kalimantan Barat','Riau','Sulawesi Barat','Sulawesi Tengah','Sulawesi Utara','Gorontalo']\n",
    "\n",
    "\n",
    "product_dir = os.path.join(root_dir,'1C',loc,'PRODUCT')\n",
    "save_dir = os.path.join(root_dir,'1C','dataframes_download')\n",
    "save_dir1 = os.path.join(save_dir,loc)\n",
    "if not os.path.exists(save_dir1):\n",
    "    os.makedirs(save_dir1)\n",
    "    \n",
    "if not os.path.exists(product_dir):\n",
    "    os.makedirs(product_dir)\n",
    "    \n",
    "print('product_dir: ', product_dir)\n"
   ]
  },
  {
   "cell_type": "code",
   "execution_count": 5,
   "metadata": {},
   "outputs": [
    {
     "name": "stdout",
     "output_type": "stream",
     "text": [
      "Total features 13\n"
     ]
    }
   ],
   "source": [
    "\n",
    "fieldname = 'NAME_1'\n",
    "\n",
    "shp = ogr.Open(adm1_path)\n",
    "lyr = shp.GetLayer(0)\n",
    "lyrdf =lyr.GetLayerDefn()\n",
    "id_ = lyrdf.GetFieldIndex(fieldname)\n",
    "    \n",
    "print('Total features', lyr.GetFeatureCount())\n",
    "features_extent = {}\n",
    "features_polygones = {}\n",
    "for i in range(lyr.GetFeatureCount()):\n",
    "    feat = lyr.GetFeature(i)\n",
    "    value =feat.GetField(id_)\n",
    "#     if value == name_:\n",
    "    geom=feat.GetGeometryRef()\n",
    "    extent = geom.GetEnvelope()\n",
    "    lon1,lat1 = extent[0],extent[2]\n",
    "    lon2,lat2 = extent[1],extent[3]\n",
    "    wkt_ext = f'POLYGON(({lon1} {lat1}, {lon1} {lat2}, {lon2} {lat2},  {lon2} {lat1},  {lon1} {lat1} ))'\n",
    "    features_extent[value] = wkt_ext\n",
    "    features_polygones[value]=loads(geom.ExportToWkt())\n",
    "\n",
    "    "
   ]
  },
  {
   "cell_type": "markdown",
   "metadata": {},
   "source": [
    "## Get Sentinel-2 tile names in Polygon\n",
    "\n",
    "You can download the sentinel-2 tiles from [here](https://sentinel.esa.int/web/sentinel/missions/sentinel-2/data-products) as .xml and convert them as .shp with QGIS to create ´Features.shp´"
   ]
  },
  {
   "cell_type": "code",
   "execution_count": 6,
   "metadata": {},
   "outputs": [
    {
     "name": "stdout",
     "output_type": "stream",
     "text": [
      "Opened /home/pf/pfstaff/projects/nlang_HCS/data/Sentinel2_mission/sentinel2_tiles/Features.shp\n",
      "Number of layers:  1\n",
      "Number of features:  56984\n",
      "56984 geometries loaded\n"
     ]
    }
   ],
   "source": [
    "sentinel2_tiles_path = '/home/pf/pfstaff/projects/nlang_HCS/data/Sentinel2_mission/sentinel2_tiles/Features.shp'\n",
    "driver = ogr.GetDriverByName('ESRI Shapefile')\n",
    "sentinel2_tiles = driver.Open(sentinel2_tiles_path, 0) # 0 means read-only. 1 means writeable.\n",
    "\n",
    "print('Opened {}'.format(sentinel2_tiles_path))\n",
    "layer = sentinel2_tiles.GetLayer()\n",
    "featureCount = layer.GetFeatureCount()\n",
    "print('Number of layers: ', sentinel2_tiles.GetLayerCount())\n",
    "# print(layer.GetLayerDefn())\n",
    "print(\"Number of features: \", featureCount)\n",
    "\n",
    "\n",
    "def getGeom(Shapefile, shapely = True):\n",
    "    feature_dict={}\n",
    "    n_layers = Shapefile.GetLayerCount()\n",
    "    wkt_list  = []\n",
    "    for _ in range(n_layers):\n",
    "        Shapefile_layer = Shapefile.GetLayer()\n",
    "\n",
    "        n_points = Shapefile_layer.GetFeatureCount()\n",
    "\n",
    "        for _ in range(n_points):\n",
    "            feat = Shapefile_layer.GetNextFeature()\n",
    "            if feat:\n",
    "                name = feat.GetFieldAsString(\"Name\")\n",
    "                geom = feat.geometry().ExportToWkt()\n",
    "                if shapely:\n",
    "                    geom = loads(geom)\n",
    "                wkt_list.append(geom)\n",
    "                # save in dictionary\n",
    "                feature_dict[name]=geom\n",
    "\n",
    "    print('{} geometries loaded'.format(len(wkt_list)))\n",
    "\n",
    "    return wkt_list, feature_dict\n",
    "    \n",
    "tiles_geometry, feature_dict = getGeom(Shapefile=sentinel2_tiles)\n"
   ]
  },
  {
   "cell_type": "code",
   "execution_count": 7,
   "metadata": {},
   "outputs": [],
   "source": [
    "\n",
    "roi_tiles_per_feature = {}\n",
    "\n",
    "for name, poly in features_polygones.items():\n",
    "\n",
    "    for tile, tile_poly in feature_dict.items():\n",
    "        if poly.intersects(tile_poly):\n",
    "            if name in roi_tiles_per_feature.keys():                \n",
    "                roi_tiles_per_feature[name].append(tile)\n",
    "            else:\n",
    "                roi_tiles_per_feature[name] = [tile]\n",
    "#     print(name,len(roi_tiles_per_feature[name]))\n"
   ]
  },
  {
   "cell_type": "code",
   "execution_count": 8,
   "metadata": {},
   "outputs": [
    {
     "data": {
      "text/plain": [
       "122"
      ]
     },
     "execution_count": 8,
     "metadata": {},
     "output_type": "execute_result"
    }
   ],
   "source": [
    "df = pd.DataFrame.from_dict(roi_tiles_per_feature, orient='index')\n",
    "\n",
    "df['count'] = df.shape[1]-df.isnull().sum(axis=1)\n",
    "df = df.sort_values('count',ascending=False)\n",
    "df['count'].sum()\n",
    "# for key, value in roi_tiles_per_feature.items():\n",
    "#     print(key,len(value))"
   ]
  },
  {
   "cell_type": "code",
   "execution_count": 9,
   "metadata": {},
   "outputs": [],
   "source": [
    "a = set(np.array(df.drop('count', axis=1)).flatten())\n",
    "len(a)\n",
    "df['tiles_country'] = len(a)"
   ]
  },
  {
   "cell_type": "code",
   "execution_count": 10,
   "metadata": {},
   "outputs": [
    {
     "name": "stdout",
     "output_type": "stream",
     "text": [
      "/scratch/andresro/leon_igp/barry_palm/data/1C/dataframes_download/palmcountries_2017/Tiles_per_region_Malaysia.csv saved!\n"
     ]
    }
   ],
   "source": [
    "filename = save_dir1+'/'+f'Tiles_per_region_{country}.csv'\n",
    "df.to_csv(filename)\n",
    "print(filename, 'saved!')"
   ]
  },
  {
   "cell_type": "code",
   "execution_count": 11,
   "metadata": {},
   "outputs": [
    {
     "data": {
      "text/plain": [
       "Index(['Sarawak', 'Sabah', 'Pahang', 'Johor', 'Kedah', 'Perak', 'Kelantan',\n",
       "       'Selangor', 'Trengganu', 'Negeri Sembilan', 'Melaka', 'Perlis',\n",
       "       'Pulau Pinang'],\n",
       "      dtype='object')"
      ]
     },
     "execution_count": 11,
     "metadata": {},
     "output_type": "execute_result"
    }
   ],
   "source": [
    "df.index"
   ]
  },
  {
   "cell_type": "markdown",
   "metadata": {},
   "source": [
    "## Query tiles from SCIHUB server\n",
    "\n",
    "If you do not have a scihub account create one [here](https://scihub.copernicus.eu/dhus/#/self-registration).\n",
    "\n",
    "Before downloading we will just query all the sentinel tiles to create a database where we can track which tiles are available to download.\n",
    "\n",
    "Now you can add your details to download the corresponding images. You can choose which images to download depending on the state name or 'all' for downloading all states inside the .shp file"
   ]
  },
  {
   "cell_type": "code",
   "execution_count": 3,
   "metadata": {},
   "outputs": [],
   "source": [
    "# connect to the API\n",
    "\n",
    "username =''\n",
    "password=''\n",
    "api = SentinelAPI(username, password, 'https://scihub.copernicus.eu/dhus')\n"
   ]
  },
  {
   "cell_type": "code",
   "execution_count": 13,
   "metadata": {},
   "outputs": [],
   "source": [
    "is_all = False\n",
    "is_load =True\n",
    "\n",
    "if NAME == 'all':\n",
    "    is_all = True\n",
    "    \n",
    "\n",
    "if is_load:\n",
    "    name_ = '_'.join(NAME).replace(' ','_') if not is_all else 'all'\n",
    "    file_ = glob.glob(f'{save_dir1}/{country}_{name_}_*.pkl')[0]\n",
    "    \n",
    "    df_download = pd.read_pickle(file_)\n",
    "else:\n",
    "    \n",
    "    products_df = []\n",
    "    # search by polygon, time, and SciHub query keywords\n",
    "    NAME1 = set(df.index) if is_all else NAME\n",
    "    for name_ in NAME1:\n",
    "        print(name_)\n",
    "        products = api.query(area=features_extent[name_],\n",
    "                             # CHANGE desired time-frame here\n",
    "                             date=('20170101', date(2017, 12,31)),\n",
    "                             platformname='Sentinel-2')\n",
    "\n",
    "        # convert to Pandas DataFrame\n",
    "        products_df.append(api.to_dataframe(products))\n",
    "\n",
    "\n",
    "\n",
    "    df_out = None\n",
    "    for d_ in products_df:\n",
    "        if df_out is None:\n",
    "            df_out = d_\n",
    "        else:\n",
    "            df_out = df_out.append(d_)\n",
    "\n",
    "    # df_out.shape\n",
    "\n",
    "    df1 = df_out.copy()\n",
    "    df1.drop_duplicates(subset=['title'], inplace =True)\n",
    "    df1[df1.tileid.isna()].shape, df1[df1.relativeorbitnumber.isna()].shape\n",
    "\n",
    "    df1['sizeMB'] = df1['size'].map(lambda x: float(x.replace(' MB','')))\n",
    "    df1['tileid'] = df1['title'].map(lambda x: x.split('_')[5][1:])\n",
    "\n",
    "\n",
    "#     Remove Tiles not in polygon\n",
    "\n",
    "    index = None\n",
    "    for name_ in NAME1:\n",
    "        index_ = [x in roi_tiles_per_feature[name_] for x in df1.tileid]\n",
    "        if index is None:\n",
    "            index = index_\n",
    "        else:\n",
    "            index = np.logical_or(index_,index)\n",
    "\n",
    "\n",
    "    # index\n",
    "    df1 = df1[index]\n",
    "\n",
    "    df_download = df1.sort_values(['cloudcoverpercentage', 'ingestiondate'], ascending=[True, True]).groupby(['tileid','relativeorbitnumber']).head(10)\n",
    "    df_download = df_download.sort_values(['tileid','relativeorbitnumber','cloudcoverpercentage'])\n",
    "\n",
    "\n",
    "    print(len(np.unique(df_download.tileid)),len(np.unique(df_download.title)))\n",
    "\n",
    "    for counter, (id_, d) in enumerate(df_download.groupby(['tileid','relativeorbitnumber'])):\n",
    "        print(counter, id_,f' N {d.shape[0]} mean cc {d.cloudcoverpercentage.mean():.2f}')\n",
    "\n",
    "    df_download.sizeMB.sum()/(10*60*60)\n",
    "    name_ = '_'.join(NAME).replace(' ','_') if not is_all else 'all'\n",
    "#     name_ = '_'.join(NAME).replace(' ','_')\n",
    "    file_=save_dir1+'/'+country+name_+f'{save_dir1}/{country}_{name_}_{df_download.shape[0]}.pkl'\n",
    "    \n",
    "    df_download.to_pickle(file_)"
   ]
  },
  {
   "cell_type": "code",
   "execution_count": 14,
   "metadata": {},
   "outputs": [
    {
     "name": "stdout",
     "output_type": "stream",
     "text": [
      "/scratch/andresro/leon_igp/barry_palm/data/1C/dataframes_download/palmcountries_2017/Malaysia_all_1150.txt saved\n"
     ]
    }
   ],
   "source": [
    "file1_ = file_.replace('.pkl','.txt')\n",
    "\n",
    "with open(file1_, 'w') as f:\n",
    "    for item in df_download.title:\n",
    "        f.write(\"%s\\n\" % item)\n",
    "print(file1_,'saved')        "
   ]
  },
  {
   "cell_type": "code",
   "execution_count": 15,
   "metadata": {},
   "outputs": [
    {
     "data": {
      "text/plain": [
       "'S2B_MSIL1C_20171118T034019_N0206_R061_T47NNG_20171118T090542'"
      ]
     },
     "execution_count": 15,
     "metadata": {},
     "output_type": "execute_result"
    }
   ],
   "source": [
    "df_download.title[0]"
   ]
  },
  {
   "cell_type": "code",
   "execution_count": 16,
   "metadata": {},
   "outputs": [
    {
     "name": "stdout",
     "output_type": "stream",
     "text": [
      "total size 604831.73\n"
     ]
    }
   ],
   "source": [
    "print('total size',np.sum(df_download.sizeMB))"
   ]
  },
  {
   "cell_type": "markdown",
   "metadata": {},
   "source": [
    "This script could be used to download directly all the scrips but if we have too many tiles, this will usually take several days to complete."
   ]
  },
  {
   "cell_type": "code",
   "execution_count": 17,
   "metadata": {},
   "outputs": [
    {
     "data": {
      "text/plain": [
       "'/scratch/andresro/leon_igp/barry_palm/data/1C/dataframes_download/palmcountries_2017'"
      ]
     },
     "execution_count": 17,
     "metadata": {},
     "output_type": "execute_result"
    }
   ],
   "source": [
    "# # download sorted and reduced products\n",
    "# api.download_all(df.index,directory_path=product_dir)"
   ]
  },
  {
   "cell_type": "markdown",
   "metadata": {},
   "source": [
    "## Check 1C downloads"
   ]
  },
  {
   "cell_type": "code",
   "execution_count": null,
   "metadata": {},
   "outputs": [],
   "source": [
    "tiles = df_download.title.map(lambda x: '_'.join(x.split('_')[4:6]))"
   ]
  },
  {
   "cell_type": "code",
   "execution_count": null,
   "metadata": {},
   "outputs": [],
   "source": [
    "\n",
    "base_path =root_dir+'/1C/{}/PRODUCT/'.format(loc) \n",
    "# base_path ='/home/pf/pfstaff/projects/andresro/barry_palm/data/1C/palm_2017/PRODUCT/'\n",
    "\n",
    "filelist = glob.glob(base_path+'*.zip')\n",
    "\n",
    "existing_ds = [os.path.split(x)[-1].replace('.zip','') for x in filelist]\n",
    "# pending_ds = [x for x in df_download.title if x not in existing_ds]\n",
    "pending_ds = [x not in existing_ds for x in df_download.title]\n",
    "\n",
    "print('total',df_download.shape[0])\n",
    "print(f'existing {len(existing_ds)} in {base_path}')\n",
    "print('pending',np.sum(pending_ds))\n",
    "\n"
   ]
  },
  {
   "cell_type": "code",
   "execution_count": null,
   "metadata": {},
   "outputs": [],
   "source": [
    "df_existing = df_download[~np.array(pending_ds)]\n",
    "\n",
    "file_existing_correct = base_path+'/correct_zip.txt'\n",
    "lines = [line.rstrip('\\n') for line in open(file_existing_correct)]\n",
    "\n",
    "is_checked = [x not in lines for x in df_existing.title]\n",
    "df_to_check = df_existing[is_checked]\n",
    "\n",
    "print('1C ds pending checksum:',df_to_check.shape[0])"
   ]
  },
  {
   "cell_type": "code",
   "execution_count": 21,
   "metadata": {},
   "outputs": [
    {
     "name": "stdout",
     "output_type": "stream",
     "text": [
      "https://scihub.copernicus.eu/dhus/odata/v1/Products('3df8a4c9-11e7-4c1f-bc93-e7a5123581af')/$value\n",
      "https://scihub.copernicus.eu/dhus/odata/v1/Products('150e0721-caa3-4e5a-a688-72e456f65d9f')/$value\n",
      "https://scihub.copernicus.eu/dhus/odata/v1/Products('524e0315-a635-41ef-b506-b72cfacd325f')/$value\n",
      "https://scihub.copernicus.eu/dhus/odata/v1/Products('7e2432d5-5454-4c1e-ab53-f974fa797906')/$value\n",
      "https://scihub.copernicus.eu/dhus/odata/v1/Products('b4542a03-50de-40f2-a76f-e227308b119d')/$value\n"
     ]
    }
   ],
   "source": [
    "for id_, row in df_download.head(5).iterrows():\n",
    "    print(row.link)\n",
    "#     print(f'wget --content-disposition --continue --user={username} --password={password} \"https://scihub.copernicus.eu/dhus/odata/v1/Products(\\'{id_}\\')/\\$value\" -P {save_dir}')\n",
    "#     print(f'wget --content-disposition --continue --user={username} --password={password} \"{row.link}\"')"
   ]
  },
  {
   "cell_type": "code",
   "execution_count": 22,
   "metadata": {},
   "outputs": [
    {
     "data": {
      "text/plain": [
       "'/scratch/andresro/leon_igp/barry_palm/data/1C/palmcountries_2017/PRODUCT/'"
      ]
     },
     "execution_count": 22,
     "metadata": {},
     "output_type": "execute_result"
    }
   ],
   "source": [
    "# df_download.inde\n",
    "base_path"
   ]
  },
  {
   "cell_type": "markdown",
   "metadata": {},
   "source": [
    "## Check 2A files"
   ]
  },
  {
   "cell_type": "code",
   "execution_count": 23,
   "metadata": {},
   "outputs": [
    {
     "name": "stdout",
     "output_type": "stream",
     "text": [
      "1C:  9351\n",
      "2A:  8483\n"
     ]
    }
   ],
   "source": [
    "path=root_dir+'/1C/'+loc+'/PRODUCT/correct_zip.txt'\n",
    "lines1C = [line.rstrip('\\n') for line in open(path)]\n",
    "lines1C = [x for x in lines1C if '2017' in x]\n",
    "print('1C: ',len(lines1C))\n",
    "\n",
    "\n",
    "path=root_dir+'/2A/'+loc+'/correct_2A.txt'\n",
    "lines2A = [line.rstrip('\\n') for line in open(path)]\n",
    "lines2A = [x for x in lines2A if '2017' in x]\n",
    "print('2A: ',len(lines2A))"
   ]
  },
  {
   "cell_type": "code",
   "execution_count": 24,
   "metadata": {},
   "outputs": [
    {
     "data": {
      "text/html": [
       "<div>\n",
       "<style scoped>\n",
       "    .dataframe tbody tr th:only-of-type {\n",
       "        vertical-align: middle;\n",
       "    }\n",
       "\n",
       "    .dataframe tbody tr th {\n",
       "        vertical-align: top;\n",
       "    }\n",
       "\n",
       "    .dataframe thead th {\n",
       "        text-align: right;\n",
       "    }\n",
       "</style>\n",
       "<table border=\"1\" class=\"dataframe\">\n",
       "  <thead>\n",
       "    <tr style=\"text-align: right;\">\n",
       "      <th></th>\n",
       "      <th></th>\n",
       "      <th>title1C</th>\n",
       "      <th>count1C</th>\n",
       "      <th>title2A</th>\n",
       "    </tr>\n",
       "    <tr>\n",
       "      <th>tile</th>\n",
       "      <th>orbit</th>\n",
       "      <th></th>\n",
       "      <th></th>\n",
       "      <th></th>\n",
       "    </tr>\n",
       "  </thead>\n",
       "  <tbody>\n",
       "    <tr>\n",
       "      <th rowspan=\"5\" valign=\"top\">T46NGH</th>\n",
       "      <th>R104</th>\n",
       "      <td>S2A_MSIL1C_20171017T034731_N0205_R104_T46NGH_2...</td>\n",
       "      <td>10</td>\n",
       "      <td>S2A_MSIL2A_20171017T034731_N0205_R104_T46NGH_2...</td>\n",
       "    </tr>\n",
       "    <tr>\n",
       "      <th>R104</th>\n",
       "      <td>S2B_MSIL1C_20170922T034519_N0205_R104_T46NGH_2...</td>\n",
       "      <td>10</td>\n",
       "      <td>S2B_MSIL2A_20170922T034519_N0205_R104_T46NGH_2...</td>\n",
       "    </tr>\n",
       "    <tr>\n",
       "      <th>R104</th>\n",
       "      <td>S2B_MSIL1C_20171221T035139_N0206_R104_T46NGH_2...</td>\n",
       "      <td>10</td>\n",
       "      <td>S2B_MSIL2A_20171221T035139_N0206_R104_T46NGH_2...</td>\n",
       "    </tr>\n",
       "    <tr>\n",
       "      <th>R104</th>\n",
       "      <td>S2A_MSIL1C_20170420T034541_N0204_R104_T46NGH_2...</td>\n",
       "      <td>10</td>\n",
       "      <td>S2A_MSIL2A_20170420T034541_N0204_R104_T46NGH_2...</td>\n",
       "    </tr>\n",
       "    <tr>\n",
       "      <th>R104</th>\n",
       "      <td>S2A_MSIL1C_20171216T035141_N0206_R104_T46NGH_2...</td>\n",
       "      <td>10</td>\n",
       "      <td>S2A_MSIL2A_20171216T035141_N0206_R104_T46NGH_2...</td>\n",
       "    </tr>\n",
       "  </tbody>\n",
       "</table>\n",
       "</div>"
      ],
      "text/plain": [
       "                                                        title1C  count1C  \\\n",
       "tile   orbit                                                               \n",
       "T46NGH R104   S2A_MSIL1C_20171017T034731_N0205_R104_T46NGH_2...       10   \n",
       "       R104   S2B_MSIL1C_20170922T034519_N0205_R104_T46NGH_2...       10   \n",
       "       R104   S2B_MSIL1C_20171221T035139_N0206_R104_T46NGH_2...       10   \n",
       "       R104   S2A_MSIL1C_20170420T034541_N0204_R104_T46NGH_2...       10   \n",
       "       R104   S2A_MSIL1C_20171216T035141_N0206_R104_T46NGH_2...       10   \n",
       "\n",
       "                                                        title2A  \n",
       "tile   orbit                                                     \n",
       "T46NGH R104   S2A_MSIL2A_20171017T034731_N0205_R104_T46NGH_2...  \n",
       "       R104   S2B_MSIL2A_20170922T034519_N0205_R104_T46NGH_2...  \n",
       "       R104   S2B_MSIL2A_20171221T035139_N0206_R104_T46NGH_2...  \n",
       "       R104   S2A_MSIL2A_20170420T034541_N0204_R104_T46NGH_2...  \n",
       "       R104   S2A_MSIL2A_20171216T035141_N0206_R104_T46NGH_2...  "
      ]
     },
     "execution_count": 24,
     "metadata": {},
     "output_type": "execute_result"
    }
   ],
   "source": [
    "ds1C = pd.DataFrame({'title1C': lines1C})\n",
    "\n",
    "ds1C['tile'] = ds1C.title1C.map(lambda x: x.split('_')[5])\n",
    "ds1C['orbit'] = ds1C.title1C.map(lambda x: x.split('_')[4])\n",
    "\n",
    "ds1C.head()\n",
    "\n",
    "counts1C = ds1C.groupby(['tile','orbit']).count().rename({'title1C':'count1C'},axis=1)\n",
    "\n",
    "ds1C = ds1C.set_index(['tile','orbit']).join(counts1C)\n",
    "ds1C['title2A'] = ds1C.title1C.map(lambda x: x.replace('MSIL1C','MSIL2A'))\n",
    "ds1C.head()"
   ]
  },
  {
   "cell_type": "code",
   "execution_count": 25,
   "metadata": {},
   "outputs": [
    {
     "data": {
      "text/html": [
       "<div>\n",
       "<style scoped>\n",
       "    .dataframe tbody tr th:only-of-type {\n",
       "        vertical-align: middle;\n",
       "    }\n",
       "\n",
       "    .dataframe tbody tr th {\n",
       "        vertical-align: top;\n",
       "    }\n",
       "\n",
       "    .dataframe thead th {\n",
       "        text-align: right;\n",
       "    }\n",
       "</style>\n",
       "<table border=\"1\" class=\"dataframe\">\n",
       "  <thead>\n",
       "    <tr style=\"text-align: right;\">\n",
       "      <th></th>\n",
       "      <th></th>\n",
       "      <th>title2A</th>\n",
       "      <th>count2A</th>\n",
       "      <th>correct2A</th>\n",
       "    </tr>\n",
       "    <tr>\n",
       "      <th>tile</th>\n",
       "      <th>orbit</th>\n",
       "      <th></th>\n",
       "      <th></th>\n",
       "      <th></th>\n",
       "    </tr>\n",
       "  </thead>\n",
       "  <tbody>\n",
       "    <tr>\n",
       "      <th rowspan=\"5\" valign=\"top\">T46NGH</th>\n",
       "      <th>R104</th>\n",
       "      <td>S2A_MSIL2A_20170420T034541_N0204_R104_T46NGH_2...</td>\n",
       "      <td>8</td>\n",
       "      <td>True</td>\n",
       "    </tr>\n",
       "    <tr>\n",
       "      <th>R104</th>\n",
       "      <td>S2A_MSIL2A_20170619T034531_N0205_R104_T46NGH_2...</td>\n",
       "      <td>8</td>\n",
       "      <td>True</td>\n",
       "    </tr>\n",
       "    <tr>\n",
       "      <th>R104</th>\n",
       "      <td>S2A_MSIL2A_20170709T034531_N0205_R104_T46NGH_2...</td>\n",
       "      <td>8</td>\n",
       "      <td>True</td>\n",
       "    </tr>\n",
       "    <tr>\n",
       "      <th>R104</th>\n",
       "      <td>S2A_MSIL2A_20171017T034731_N0205_R104_T46NGH_2...</td>\n",
       "      <td>8</td>\n",
       "      <td>True</td>\n",
       "    </tr>\n",
       "    <tr>\n",
       "      <th>R104</th>\n",
       "      <td>S2B_MSIL2A_20170724T034539_N0205_R104_T46NGH_2...</td>\n",
       "      <td>8</td>\n",
       "      <td>True</td>\n",
       "    </tr>\n",
       "  </tbody>\n",
       "</table>\n",
       "</div>"
      ],
      "text/plain": [
       "                                                        title2A  count2A  \\\n",
       "tile   orbit                                                               \n",
       "T46NGH R104   S2A_MSIL2A_20170420T034541_N0204_R104_T46NGH_2...        8   \n",
       "       R104   S2A_MSIL2A_20170619T034531_N0205_R104_T46NGH_2...        8   \n",
       "       R104   S2A_MSIL2A_20170709T034531_N0205_R104_T46NGH_2...        8   \n",
       "       R104   S2A_MSIL2A_20171017T034731_N0205_R104_T46NGH_2...        8   \n",
       "       R104   S2B_MSIL2A_20170724T034539_N0205_R104_T46NGH_2...        8   \n",
       "\n",
       "              correct2A  \n",
       "tile   orbit             \n",
       "T46NGH R104        True  \n",
       "       R104        True  \n",
       "       R104        True  \n",
       "       R104        True  \n",
       "       R104        True  "
      ]
     },
     "execution_count": 25,
     "metadata": {},
     "output_type": "execute_result"
    }
   ],
   "source": [
    "ds2A = pd.DataFrame({'title2A': lines2A})\n",
    "\n",
    "ds2A['tile'] = ds2A.title2A.map(lambda x: x.split('_')[5])\n",
    "ds2A['orbit'] = ds2A.title2A.map(lambda x: x.split('_')[4])\n",
    "\n",
    "ds2A.head()\n",
    "\n",
    "counts2A = ds2A.groupby(['tile','orbit']).count().rename({'title2A':'count2A'},axis=1)\n",
    "ds2A = ds2A.set_index(['tile','orbit']).join(counts2A)\n",
    "ds2A['correct2A'] = True\n",
    "\n",
    "ds2A.head()"
   ]
  },
  {
   "cell_type": "code",
   "execution_count": 26,
   "metadata": {},
   "outputs": [
    {
     "data": {
      "text/plain": [
       "Index(['title2A', 'title1C', 'count1C', 'count2A', 'correct2A'], dtype='object')"
      ]
     },
     "execution_count": 26,
     "metadata": {},
     "output_type": "execute_result"
    }
   ],
   "source": [
    "dsAll = ds1C.set_index('title2A').join(ds2A.set_index('title2A'))\n",
    "\n",
    "#dsAll[dsAll.correct2A != True].title1C\n",
    "#dsAll[dsAll.title1C]\n",
    "dsAll.reset_index().columns "
   ]
  },
  {
   "cell_type": "code",
   "execution_count": 31,
   "metadata": {},
   "outputs": [
    {
     "data": {
      "text/html": [
       "<div>\n",
       "<style scoped>\n",
       "    .dataframe tbody tr th:only-of-type {\n",
       "        vertical-align: middle;\n",
       "    }\n",
       "\n",
       "    .dataframe tbody tr th {\n",
       "        vertical-align: top;\n",
       "    }\n",
       "\n",
       "    .dataframe thead th {\n",
       "        text-align: right;\n",
       "    }\n",
       "</style>\n",
       "<table border=\"1\" class=\"dataframe\">\n",
       "  <thead>\n",
       "    <tr style=\"text-align: right;\">\n",
       "      <th></th>\n",
       "      <th>title1C</th>\n",
       "      <th>count1C</th>\n",
       "      <th>count2A</th>\n",
       "      <th>correct2A</th>\n",
       "    </tr>\n",
       "    <tr>\n",
       "      <th>title2A</th>\n",
       "      <th></th>\n",
       "      <th></th>\n",
       "      <th></th>\n",
       "      <th></th>\n",
       "    </tr>\n",
       "  </thead>\n",
       "  <tbody>\n",
       "    <tr>\n",
       "      <th>S2A_MSIL2A_20170106T023101_N0204_R046_T50MMA_20170106T024308</th>\n",
       "      <td>S2A_MSIL1C_20170106T023101_N0204_R046_T50MMA_2...</td>\n",
       "      <td>10</td>\n",
       "      <td>NaN</td>\n",
       "      <td>NaN</td>\n",
       "    </tr>\n",
       "    <tr>\n",
       "      <th>S2A_MSIL2A_20170106T023101_N0204_R046_T50NNF_20170106T024308</th>\n",
       "      <td>S2A_MSIL1C_20170106T023101_N0204_R046_T50NNF_2...</td>\n",
       "      <td>10</td>\n",
       "      <td>NaN</td>\n",
       "      <td>NaN</td>\n",
       "    </tr>\n",
       "    <tr>\n",
       "      <th>S2A_MSIL2A_20170109T011711_N0204_R088_T53LRL_20170109T011728</th>\n",
       "      <td>S2A_MSIL1C_20170109T011711_N0204_R088_T53LRL_2...</td>\n",
       "      <td>10</td>\n",
       "      <td>NaN</td>\n",
       "      <td>NaN</td>\n",
       "    </tr>\n",
       "    <tr>\n",
       "      <th>S2A_MSIL2A_20170109T011711_N0204_R088_T53MNR_20170109T011728</th>\n",
       "      <td>S2A_MSIL1C_20170109T011711_N0204_R088_T53MNR_2...</td>\n",
       "      <td>10</td>\n",
       "      <td>NaN</td>\n",
       "      <td>NaN</td>\n",
       "    </tr>\n",
       "    <tr>\n",
       "      <th>S2A_MSIL2A_20170109T011711_N0204_R088_T53MPU_20170109T011710</th>\n",
       "      <td>S2A_MSIL1C_20170109T011711_N0204_R088_T53MPU_2...</td>\n",
       "      <td>10</td>\n",
       "      <td>NaN</td>\n",
       "      <td>NaN</td>\n",
       "    </tr>\n",
       "  </tbody>\n",
       "</table>\n",
       "</div>"
      ],
      "text/plain": [
       "                                                                                              title1C  \\\n",
       "title2A                                                                                                 \n",
       "S2A_MSIL2A_20170106T023101_N0204_R046_T50MMA_20...  S2A_MSIL1C_20170106T023101_N0204_R046_T50MMA_2...   \n",
       "S2A_MSIL2A_20170106T023101_N0204_R046_T50NNF_20...  S2A_MSIL1C_20170106T023101_N0204_R046_T50NNF_2...   \n",
       "S2A_MSIL2A_20170109T011711_N0204_R088_T53LRL_20...  S2A_MSIL1C_20170109T011711_N0204_R088_T53LRL_2...   \n",
       "S2A_MSIL2A_20170109T011711_N0204_R088_T53MNR_20...  S2A_MSIL1C_20170109T011711_N0204_R088_T53MNR_2...   \n",
       "S2A_MSIL2A_20170109T011711_N0204_R088_T53MPU_20...  S2A_MSIL1C_20170109T011711_N0204_R088_T53MPU_2...   \n",
       "\n",
       "                                                    count1C  count2A correct2A  \n",
       "title2A                                                                         \n",
       "S2A_MSIL2A_20170106T023101_N0204_R046_T50MMA_20...       10      NaN       NaN  \n",
       "S2A_MSIL2A_20170106T023101_N0204_R046_T50NNF_20...       10      NaN       NaN  \n",
       "S2A_MSIL2A_20170109T011711_N0204_R088_T53LRL_20...       10      NaN       NaN  \n",
       "S2A_MSIL2A_20170109T011711_N0204_R088_T53MNR_20...       10      NaN       NaN  \n",
       "S2A_MSIL2A_20170109T011711_N0204_R088_T53MPU_20...       10      NaN       NaN  "
      ]
     },
     "execution_count": 31,
     "metadata": {},
     "output_type": "execute_result"
    }
   ],
   "source": [
    "dsAll[dsAll.correct2A != True].head()"
   ]
  },
  {
   "cell_type": "code",
   "execution_count": 28,
   "metadata": {},
   "outputs": [
    {
     "data": {
      "text/html": [
       "<div>\n",
       "<style scoped>\n",
       "    .dataframe tbody tr th:only-of-type {\n",
       "        vertical-align: middle;\n",
       "    }\n",
       "\n",
       "    .dataframe tbody tr th {\n",
       "        vertical-align: top;\n",
       "    }\n",
       "\n",
       "    .dataframe thead th {\n",
       "        text-align: right;\n",
       "    }\n",
       "</style>\n",
       "<table border=\"1\" class=\"dataframe\">\n",
       "  <thead>\n",
       "    <tr style=\"text-align: right;\">\n",
       "      <th></th>\n",
       "      <th></th>\n",
       "      <th>count2A</th>\n",
       "    </tr>\n",
       "    <tr>\n",
       "      <th>tile</th>\n",
       "      <th>orbit</th>\n",
       "      <th></th>\n",
       "    </tr>\n",
       "  </thead>\n",
       "  <tbody>\n",
       "    <tr>\n",
       "      <th>T54MWU</th>\n",
       "      <th>R002</th>\n",
       "      <td>6</td>\n",
       "    </tr>\n",
       "    <tr>\n",
       "      <th>T53MKQ</th>\n",
       "      <th>R031</th>\n",
       "      <td>6</td>\n",
       "    </tr>\n",
       "    <tr>\n",
       "      <th>T54MTV</th>\n",
       "      <th>R088</th>\n",
       "      <td>6</td>\n",
       "    </tr>\n",
       "    <tr>\n",
       "      <th>T53MKP</th>\n",
       "      <th>R031</th>\n",
       "      <td>6</td>\n",
       "    </tr>\n",
       "    <tr>\n",
       "      <th>T54MTA</th>\n",
       "      <th>R088</th>\n",
       "      <td>6</td>\n",
       "    </tr>\n",
       "    <tr>\n",
       "      <th>T53MKU</th>\n",
       "      <th>R031</th>\n",
       "      <td>7</td>\n",
       "    </tr>\n",
       "    <tr>\n",
       "      <th>T53MMT</th>\n",
       "      <th>R131</th>\n",
       "      <td>7</td>\n",
       "    </tr>\n",
       "    <tr>\n",
       "      <th>T54MTV</th>\n",
       "      <th>R045</th>\n",
       "      <td>7</td>\n",
       "    </tr>\n",
       "    <tr>\n",
       "      <th>T52MCC</th>\n",
       "      <th>R117</th>\n",
       "      <td>7</td>\n",
       "    </tr>\n",
       "    <tr>\n",
       "      <th>T52MHE</th>\n",
       "      <th>R074</th>\n",
       "      <td>7</td>\n",
       "    </tr>\n",
       "    <tr>\n",
       "      <th>T52MHD</th>\n",
       "      <th>R074</th>\n",
       "      <td>7</td>\n",
       "    </tr>\n",
       "    <tr>\n",
       "      <th>T52MGD</th>\n",
       "      <th>R074</th>\n",
       "      <td>7</td>\n",
       "    </tr>\n",
       "    <tr>\n",
       "      <th>T53MNR</th>\n",
       "      <th>R088</th>\n",
       "      <td>7</td>\n",
       "    </tr>\n",
       "    <tr>\n",
       "      <th>T54MTB</th>\n",
       "      <th>R045</th>\n",
       "      <td>7</td>\n",
       "    </tr>\n",
       "    <tr>\n",
       "      <th>T54LVR</th>\n",
       "      <th>R045</th>\n",
       "      <td>7</td>\n",
       "    </tr>\n",
       "    <tr>\n",
       "      <th>T54MUB</th>\n",
       "      <th>R045</th>\n",
       "      <td>7</td>\n",
       "    </tr>\n",
       "    <tr>\n",
       "      <th>T52MED</th>\n",
       "      <th>R117</th>\n",
       "      <td>7</td>\n",
       "    </tr>\n",
       "    <tr>\n",
       "      <th>T52MDE</th>\n",
       "      <th>R117</th>\n",
       "      <td>7</td>\n",
       "    </tr>\n",
       "    <tr>\n",
       "      <th>T52MDD</th>\n",
       "      <th>R117</th>\n",
       "      <td>7</td>\n",
       "    </tr>\n",
       "    <tr>\n",
       "      <th>T52MBC</th>\n",
       "      <th>R117</th>\n",
       "      <td>7</td>\n",
       "    </tr>\n",
       "    <tr>\n",
       "      <th>T52MDB</th>\n",
       "      <th>R117</th>\n",
       "      <td>7</td>\n",
       "    </tr>\n",
       "    <tr>\n",
       "      <th>T53MKS</th>\n",
       "      <th>R031</th>\n",
       "      <td>7</td>\n",
       "    </tr>\n",
       "    <tr>\n",
       "      <th>T53MRP</th>\n",
       "      <th>R045</th>\n",
       "      <td>7</td>\n",
       "    </tr>\n",
       "    <tr>\n",
       "      <th>T52MCD</th>\n",
       "      <th>R117</th>\n",
       "      <td>7</td>\n",
       "    </tr>\n",
       "    <tr>\n",
       "      <th>T54LWR</th>\n",
       "      <th>R002</th>\n",
       "      <td>7</td>\n",
       "    </tr>\n",
       "    <tr>\n",
       "      <th>T51MXT</th>\n",
       "      <th>R017</th>\n",
       "      <td>7</td>\n",
       "    </tr>\n",
       "    <tr>\n",
       "      <th>T47NPF</th>\n",
       "      <th>R061</th>\n",
       "      <td>7</td>\n",
       "    </tr>\n",
       "    <tr>\n",
       "      <th>T52NCH</th>\n",
       "      <th>R017</th>\n",
       "      <td>7</td>\n",
       "    </tr>\n",
       "    <tr>\n",
       "      <th>T47NRD</th>\n",
       "      <th>R018</th>\n",
       "      <td>7</td>\n",
       "    </tr>\n",
       "    <tr>\n",
       "      <th>T47NRB</th>\n",
       "      <th>R118</th>\n",
       "      <td>7</td>\n",
       "    </tr>\n",
       "    <tr>\n",
       "      <th>...</th>\n",
       "      <th>...</th>\n",
       "      <td>...</td>\n",
       "    </tr>\n",
       "    <tr>\n",
       "      <th>T49MCV</th>\n",
       "      <th>R132</th>\n",
       "      <td>10</td>\n",
       "    </tr>\n",
       "    <tr>\n",
       "      <th>T49MDM</th>\n",
       "      <th>R089</th>\n",
       "      <td>10</td>\n",
       "    </tr>\n",
       "    <tr>\n",
       "      <th>T51MTR</th>\n",
       "      <th>R060</th>\n",
       "      <td>10</td>\n",
       "    </tr>\n",
       "    <tr>\n",
       "      <th>T49MDM</th>\n",
       "      <th>R132</th>\n",
       "      <td>10</td>\n",
       "    </tr>\n",
       "    <tr>\n",
       "      <th>T51MTQ</th>\n",
       "      <th>R060</th>\n",
       "      <td>10</td>\n",
       "    </tr>\n",
       "    <tr>\n",
       "      <th>T51MTN</th>\n",
       "      <th>R103</th>\n",
       "      <td>10</td>\n",
       "    </tr>\n",
       "    <tr>\n",
       "      <th>T51MTM</th>\n",
       "      <th>R103</th>\n",
       "      <td>10</td>\n",
       "    </tr>\n",
       "    <tr>\n",
       "      <th>T49MDP</th>\n",
       "      <th>R132</th>\n",
       "      <td>10</td>\n",
       "    </tr>\n",
       "    <tr>\n",
       "      <th>T49MDS</th>\n",
       "      <th>R089</th>\n",
       "      <td>10</td>\n",
       "    </tr>\n",
       "    <tr>\n",
       "      <th>T51LVL</th>\n",
       "      <th>R017</th>\n",
       "      <td>10</td>\n",
       "    </tr>\n",
       "    <tr>\n",
       "      <th>T51LYL</th>\n",
       "      <th>R017</th>\n",
       "      <td>10</td>\n",
       "    </tr>\n",
       "    <tr>\n",
       "      <th>T54MWV</th>\n",
       "      <th>R045</th>\n",
       "      <td>10</td>\n",
       "    </tr>\n",
       "    <tr>\n",
       "      <th>T51LYK</th>\n",
       "      <th>R017</th>\n",
       "      <td>10</td>\n",
       "    </tr>\n",
       "    <tr>\n",
       "      <th>T51LVL</th>\n",
       "      <th>R060</th>\n",
       "      <td>10</td>\n",
       "    </tr>\n",
       "    <tr>\n",
       "      <th>T51LWH</th>\n",
       "      <th>R017</th>\n",
       "      <td>10</td>\n",
       "    </tr>\n",
       "    <tr>\n",
       "      <th>T51LWJ</th>\n",
       "      <th>R017</th>\n",
       "      <td>10</td>\n",
       "    </tr>\n",
       "    <tr>\n",
       "      <th>T51LWK</th>\n",
       "      <th>R017</th>\n",
       "      <td>10</td>\n",
       "    </tr>\n",
       "    <tr>\n",
       "      <th>T51LWL</th>\n",
       "      <th>R017</th>\n",
       "      <td>10</td>\n",
       "    </tr>\n",
       "    <tr>\n",
       "      <th>T51LXJ</th>\n",
       "      <th>R017</th>\n",
       "      <td>10</td>\n",
       "    </tr>\n",
       "    <tr>\n",
       "      <th>T51LYK</th>\n",
       "      <th>R117</th>\n",
       "      <td>10</td>\n",
       "    </tr>\n",
       "    <tr>\n",
       "      <th>T51LXJ</th>\n",
       "      <th>R117</th>\n",
       "      <td>10</td>\n",
       "    </tr>\n",
       "    <tr>\n",
       "      <th rowspan=\"2\" valign=\"top\">T51LXK</th>\n",
       "      <th>R017</th>\n",
       "      <td>10</td>\n",
       "    </tr>\n",
       "    <tr>\n",
       "      <th>R117</th>\n",
       "      <td>10</td>\n",
       "    </tr>\n",
       "    <tr>\n",
       "      <th rowspan=\"2\" valign=\"top\">T51LXL</th>\n",
       "      <th>R017</th>\n",
       "      <td>10</td>\n",
       "    </tr>\n",
       "    <tr>\n",
       "      <th>R117</th>\n",
       "      <td>10</td>\n",
       "    </tr>\n",
       "    <tr>\n",
       "      <th>T47NRC</th>\n",
       "      <th>R018</th>\n",
       "      <td>11</td>\n",
       "    </tr>\n",
       "    <tr>\n",
       "      <th>T51MVR</th>\n",
       "      <th>R060</th>\n",
       "      <td>11</td>\n",
       "    </tr>\n",
       "    <tr>\n",
       "      <th>T50NPK</th>\n",
       "      <th>R046</th>\n",
       "      <td>13</td>\n",
       "    </tr>\n",
       "    <tr>\n",
       "      <th>T47MRU</th>\n",
       "      <th>R118</th>\n",
       "      <td>13</td>\n",
       "    </tr>\n",
       "    <tr>\n",
       "      <th>T47MQU</th>\n",
       "      <th>R118</th>\n",
       "      <td>13</td>\n",
       "    </tr>\n",
       "  </tbody>\n",
       "</table>\n",
       "<p>920 rows × 1 columns</p>\n",
       "</div>"
      ],
      "text/plain": [
       "              count2A\n",
       "tile   orbit         \n",
       "T54MWU R002         6\n",
       "T53MKQ R031         6\n",
       "T54MTV R088         6\n",
       "T53MKP R031         6\n",
       "T54MTA R088         6\n",
       "T53MKU R031         7\n",
       "T53MMT R131         7\n",
       "T54MTV R045         7\n",
       "T52MCC R117         7\n",
       "T52MHE R074         7\n",
       "T52MHD R074         7\n",
       "T52MGD R074         7\n",
       "T53MNR R088         7\n",
       "T54MTB R045         7\n",
       "T54LVR R045         7\n",
       "T54MUB R045         7\n",
       "T52MED R117         7\n",
       "T52MDE R117         7\n",
       "T52MDD R117         7\n",
       "T52MBC R117         7\n",
       "T52MDB R117         7\n",
       "T53MKS R031         7\n",
       "T53MRP R045         7\n",
       "T52MCD R117         7\n",
       "T54LWR R002         7\n",
       "T51MXT R017         7\n",
       "T47NPF R061         7\n",
       "T52NCH R017         7\n",
       "T47NRD R018         7\n",
       "T47NRB R118         7\n",
       "...               ...\n",
       "T49MCV R132        10\n",
       "T49MDM R089        10\n",
       "T51MTR R060        10\n",
       "T49MDM R132        10\n",
       "T51MTQ R060        10\n",
       "T51MTN R103        10\n",
       "T51MTM R103        10\n",
       "T49MDP R132        10\n",
       "T49MDS R089        10\n",
       "T51LVL R017        10\n",
       "T51LYL R017        10\n",
       "T54MWV R045        10\n",
       "T51LYK R017        10\n",
       "T51LVL R060        10\n",
       "T51LWH R017        10\n",
       "T51LWJ R017        10\n",
       "T51LWK R017        10\n",
       "T51LWL R017        10\n",
       "T51LXJ R017        10\n",
       "T51LYK R117        10\n",
       "T51LXJ R117        10\n",
       "T51LXK R017        10\n",
       "       R117        10\n",
       "T51LXL R017        10\n",
       "       R117        10\n",
       "T47NRC R018        11\n",
       "T51MVR R060        11\n",
       "T50NPK R046        13\n",
       "T47MRU R118        13\n",
       "T47MQU R118        13\n",
       "\n",
       "[920 rows x 1 columns]"
      ]
     },
     "execution_count": 28,
     "metadata": {},
     "output_type": "execute_result"
    }
   ],
   "source": [
    "# ds2A.groupby(['tile']).count()\n",
    "\n",
    "counts2A.sort_index().sort_values(by='count2A',ascending=True)"
   ]
  },
  {
   "cell_type": "code",
   "execution_count": 81,
   "metadata": {},
   "outputs": [],
   "source": [
    "path='/scratch/andresro/leon_igp/barry_palm/data/2A/phillipines_2017/correct_2A.txt'\n",
    "lines = [line.rstrip('\\n') for line in open(path)]"
   ]
  },
  {
   "cell_type": "code",
   "execution_count": 42,
   "metadata": {},
   "outputs": [
    {
     "data": {
      "text/plain": [
       "(571, 537)"
      ]
     },
     "execution_count": 42,
     "metadata": {},
     "output_type": "execute_result"
    }
   ],
   "source": [
    "\n",
    "len(lines),len(set(lines))"
   ]
  }
 ],
 "metadata": {
  "kernelspec": {
   "display_name": "Python 2",
   "language": "python",
   "name": "python2"
  },
  "language_info": {
   "codemirror_mode": {
    "name": "ipython",
    "version": 3
   },
   "file_extension": ".py",
   "mimetype": "text/x-python",
   "name": "python",
   "nbconvert_exporter": "python",
   "pygments_lexer": "ipython3",
   "version": "3.6.9"
  }
 },
 "nbformat": 4,
 "nbformat_minor": 4
}
