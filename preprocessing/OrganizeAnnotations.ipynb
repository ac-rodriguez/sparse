{
 "cells": [
  {
   "cell_type": "code",
   "execution_count": null,
   "metadata": {},
   "outputs": [],
   "source": [
    "from osgeo import gdal, ogr, osr\n",
    "import os\n",
    "import glob\n",
    "\n",
    "import numpy as np"
   ]
  },
  {
   "cell_type": "code",
   "execution_count": null,
   "metadata": {},
   "outputs": [],
   "source": [
    "driver = ogr.GetDriverByName('KML')\n",
    "is_overwrite = False"
   ]
  },
  {
   "cell_type": "code",
   "execution_count": null,
   "metadata": {},
   "outputs": [],
   "source": [
    "def convert_to_shp(points, is_overwrite=False):\n",
    "    if points.endswith('.kml'):\n",
    "        new_points=points.replace('.kml','.shp')\n",
    "        if not os.path.exists(new_points) or is_overwrite:\n",
    "            srcDS = gdal.OpenEx(points)\n",
    "            ds = gdal.VectorTranslate(new_points, srcDS, format='ESRI Shapefile')\n",
    "            ds = None\n",
    "            points = new_points\n",
    "    return points \n",
    "\n",
    "'''\n",
    "def keep_name_only(points):\n",
    "    dataSource = ogr.Open(points, 1) \n",
    "\n",
    "    layer = dataSource.GetLayer()\n",
    "\n",
    "    lyrdf = layer.GetLayerDefn()\n",
    "\n",
    "    id_Name = lyrdf.GetFieldIndex('Name')\n",
    "    attr_N = lyrdf.GetFieldCount()\n",
    "    print(attr_N, id_Name)\n",
    "    for i in range(attr_N):\n",
    "        if not i == id_Name:\n",
    "            layer.DeleteField(i)   \n",
    "    attr_N = lyrdf.GetFieldCount()\n",
    "    print(attr_N)\n",
    "    dataSource = None\n",
    "'''\n",
    "\n",
    "def split_kml_folders(filename, dst_path, checkonly=False, as_shp=True):\n",
    "    ref_ = [x for x in filename.split('/') if x.startswith('T') and '_' in x][0]\n",
    "    tile, crop, person = ref_.replace('.kml','').split('_')\n",
    "    print(tile, crop, person)\n",
    "    ds = gdal.OpenEx(filename)\n",
    "    for i in range(ds.GetLayerCount()):\n",
    "        layer = ds.GetLayerByIndex(i)\n",
    "        layer_name = layer.GetDescription()\n",
    "        # print(layer_name, layer.GetFeatureCount(),)\n",
    "        if 'group' not in layer_name and layer.GetFeatureCount() > 0:\n",
    "            layer_name = filename.split('/')[-2]\n",
    "            assert 'group' in layer_name, filename\n",
    "        if True:\n",
    "        # if 'group' in layer_name:     \n",
    "            sr = layer.GetSpatialRef()  # Spatial Reference\n",
    "            new_feat = ogr.Feature(layer.GetLayerDefn())  # Dummy feature\n",
    "            for feat in layer:\n",
    "                if feat.GetField(0) is None:\n",
    "                    print(layer_name, filename, person, filename.split('/')[-1])\n",
    "                    feat_name = filename.split('/')[-1]\n",
    "                    feat_name = feat_name.replace('.kml','')\n",
    "                else:\n",
    "                    \n",
    "                    feat_name = feat.GetField(0).replace('/','_')\n",
    "\n",
    "                newdir_ = f\"{dst_path}/{tile}/{crop}_{layer_name}_{person}\"\n",
    "                # print(newdir_)\n",
    "                if not checkonly:\n",
    "                    if not os.path.exists(newdir_): os.makedirs(newdir_)\n",
    "                    filename_ = f\"{newdir_}/{feat_name}.kml\"\n",
    "                    # print(filename_)\n",
    "                    # if False:\n",
    "                    if not os.path.isfile(filename_) or is_overwrite:\n",
    "                        new_ds = ogr.GetDriverByName('KML').CreateDataSource(filename_)\n",
    "                        assert new_ds is not None, (filename_,feat_name)\n",
    "                        new_lyr = new_ds.CreateLayer(feat_name, sr, ogr.wkbPolygon)  # You have to specify the geometry type the layer will contain here with an ogr constant. I assume it is polygon but it can be changed.\n",
    "                        geom = feat.geometry().Clone()\n",
    "                        new_feat.SetGeometry(geom)\n",
    "                        new_lyr.CreateFeature(new_feat)\n",
    "\n",
    "                        del new_ds, new_lyr\n",
    "                    if as_shp:\n",
    "                        x = convert_to_shp(filename_)\n",
    "                        # keep_name_only(x)\n",
    "                        \n",
    "                      \n"
   ]
  },
  {
   "cell_type": "code",
   "execution_count": null,
   "metadata": {},
   "outputs": [],
   "source": [
    "# TEST\n",
    "\n",
    "# filename = '/scratch2/Dropbox/Dropbox/0_phd/tree_annotationsAug2019/annotations/temp/T46NHL_palm_Stephane.kml'\n",
    "# dst_path = '/home/pf/pfstaff/projects/andresro/barry_palm/data/labels/manual_annotations'\n",
    "\n",
    "# split_kml_folders(filename,dst_path=dst_path,checkonly=False)"
   ]
  },
  {
   "cell_type": "code",
   "execution_count": null,
   "metadata": {},
   "outputs": [],
   "source": [
    "src_path = '/scratch2/Dropbox/Dropbox/0_phd/tree_annotationsAug2019/annotations/Checked/'\n",
    "dst_path = '/home/pf/pfstaff/projects/andresro/barry_palm/data/labels/manual_annotations'\n",
    "\n",
    "filelist= glob.glob(src_path+'/**/*.kml', recursive=True)\n",
    "\n",
    "for file in filelist:\n",
    "    #print(file)\n",
    "    if not '_check' in file:\n",
    "        split_kml_folders(file,dst_path=dst_path,checkonly=False)\n",
    "    else:\n",
    "        print('skipping', file)\n",
    "\n",
    "\n",
    "    "
   ]
  },
  {
   "cell_type": "code",
   "execution_count": null,
   "metadata": {},
   "outputs": [],
   "source": [
    "\n",
    "def get_featname(file, is_assert=False):\n",
    "    if os.path.isfile:\n",
    "        files = [file]\n",
    "    else:\n",
    "        files = glob.glob(file+'/*.shp')\n",
    "    out = []\n",
    "    for file in files:\n",
    "        data = ogr.Open(file)\n",
    "        for layer in data:\n",
    "            layer.ResetReading()\n",
    "            for feature in layer:\n",
    "                items_ = feature.items()\n",
    "                geom = feature.geometry()\n",
    "                geomtype = geom.GetGeometryName()\n",
    "                key_ = items_['Name'] if items_['Name'] is not None else layer.GetDescription()\n",
    "                out.append({'Name':key_.lower(),\n",
    "                            'geom':geomtype,\n",
    "                           'file':file})\n",
    "        if is_assert:\n",
    "            geom_types = set([x['geom'] for x in out])\n",
    "            assert len(geom_types) <=1,f'{file} has more than one geom type: {geom_types}'\n",
    "            pos_names = set([x for x in out if 'pos' in x['Name'] and 'GEOM' in x['geom']])\n",
    "            neg_names = set([x for x in out if 'neg' in x['Name'] and 'GEOM' in x['geom']])\n",
    "            assert len(pos_names)+len(neg_names) <=1,f'{file} has both positive and negative geometries'\n",
    "    return out\n"
   ]
  },
  {
   "cell_type": "code",
   "execution_count": null,
   "metadata": {},
   "outputs": [],
   "source": [
    "filelist= glob.glob(dst_path+'/*/*')\n",
    "\n",
    "for file in filelist:\n",
    "    featnames_ = get_featname(file, is_assert=False)\n",
    "    # print(len(featnames_),file)\n",
    "    if len([x['Name'] for x in featnames_ if 'pos' in x['Name']]) == 1:\n",
    "        print(f'more than one pos area in {file}')\n",
    "    \n",
    "\n",
    "#featnames = [get_featname(file, is_assert=False) for file in filelist] # TODO fix if there is more than 1 feature in .shp\n",
    "\n"
   ]
  },
  {
   "cell_type": "code",
   "execution_count": null,
   "metadata": {},
   "outputs": [],
   "source": [
    "\"cd /scratch/andresro/leon_work/barry_palm/data/labels/manual_annotations\"\n",
    "\"ogrmerge.py -single -o coconut_merged.shp */coconut*/pos*.shp */coconut*/Pos*.shp -overwrite_ds\""
   ]
  },
  {
   "cell_type": "code",
   "execution_count": null,
   "metadata": {},
   "outputs": [],
   "source": [
    "\"ogrmerge.py -single -o palm_merged.shp */palm*/pos*.shp */palm*/Pos*.shp -overwrite_ds\""
   ]
  },
  {
   "cell_type": "markdown",
   "metadata": {},
   "source": [
    "OLD"
   ]
  },
  {
   "cell_type": "code",
   "execution_count": null,
   "metadata": {},
   "outputs": [],
   "source": [
    "# dst = path + \"/kml\"  # Output directory\n",
    "if not os.path.isdir(dst_path):     os.mkdir(dst_path)\n",
    "new_feat = ogr.Feature(layer.GetLayerDefn())  # Dummy feature\n",
    "\n",
    "for id, feat in enumerate(layer):\n",
    "    filename_ = os.path.join(dst_path, '{}_{}_{}.kml'.format(feat.GetField(6),feat.GetField(8), feat.GetField(7)))\n",
    "\n",
    "    if not os.path.isfile(filename_):\n",
    "        new_ds = driver.CreateDataSource(filename_)\n",
    "        new_lyr = new_ds.CreateLayer('feat_{}'.format(id), sr, ogr.wkbPolygon)  # You have to specify the geometry type the layer will contain here with an ogr constant. I assume it is polygon but it can be changed.\n",
    "        geom = feat.geometry().Clone()\n",
    "        new_feat.SetGeometry(geom)\n",
    "        new_lyr.CreateFeature(new_feat)\n",
    "\n",
    "        del new_ds, new_lyr"
   ]
  },
  {
   "cell_type": "code",
   "execution_count": null,
   "metadata": {
    "jupyter": {
     "source_hidden": true
    }
   },
   "outputs": [],
   "source": [
    "\n",
    "def convert_to_shp(points, is_overwrite=False):\n",
    "    if points.endswith('.kml'):\n",
    "        new_points=points.replace('.kml','.shp')\n",
    "        if not os.path.exists(new_points) or is_overwrite:\n",
    "            srcDS = gdal.OpenEx(points)\n",
    "            ds = gdal.VectorTranslate(new_points, srcDS, format='ESRI Shapefile')\n",
    "            ds = None\n",
    "            points = new_points\n",
    "    return points \n",
    "\n",
    "\n",
    "def keep_name_only(points):\n",
    "    dataSource = ogr.Open(points, 1) \n",
    "\n",
    "    layer = dataSource.GetLayer()\n",
    "\n",
    "    lyrdf = layer.GetLayerDefn()\n",
    "\n",
    "    id_Name = lyrdf.GetFieldIndex('Name')\n",
    "    attr_N = lyrdf.GetFieldCount()\n",
    "    print(attr_N, id_Name)\n",
    "    for i in range(attr_N):\n",
    "        if not i == id_Name:\n",
    "            layer.DeleteField(i)   \n",
    "    attr_N = lyrdf.GetFieldCount()\n",
    "    print(attr_N)\n",
    "    dataSource = None\n",
    "\n",
    "    \n",
    "def get_name_wkt(file):\n",
    "    data = ogr.Open(file)\n",
    "    \n",
    "    out= {}\n",
    "    for layer in data:\n",
    "        layer.ResetReading()\n",
    "        for feature in layer:\n",
    "            items_ = feature.items()\n",
    "            geom = feature.geometry()\n",
    "            out[items_['Name']] = geom.ExportToWkt()\n",
    "#             print(geom)\n",
    "#             print('Feature Geometry:', feature.geometry())\n",
    "    return out"
   ]
  },
  {
   "cell_type": "code",
   "execution_count": null,
   "metadata": {
    "jupyter": {
     "source_hidden": true
    }
   },
   "outputs": [],
   "source": [
    "tile='*'\n",
    "# PATH='/scratch/andresro/leon_igp'\n",
    "PATH='/home/pf/pfstaff/projects/andresro'\n",
    "\n",
    "filelist = glob.glob(PATH+'/barry_palm/data/labels/palm_annotations/{}/**/*.kml'.format(tile))\n",
    "\n",
    "dirnames = list({os.path.dirname(x) for x in filelist})\n",
    "print(len(dirnames))"
   ]
  },
  {
   "cell_type": "code",
   "execution_count": null,
   "metadata": {
    "jupyter": {
     "source_hidden": true
    }
   },
   "outputs": [],
   "source": [
    "file_ = '/scratch2/Dropbox/Dropbox/0_phd/tree_annotationsAug2019/annotations/temp/T46NHL_palm_Stephane.kml'\n",
    "convert_to_shp(file_)\n",
    "keep_name_only(file_)"
   ]
  },
  {
   "cell_type": "code",
   "execution_count": null,
   "metadata": {
    "jupyter": {
     "outputs_hidden": true,
     "source_hidden": true
    }
   },
   "outputs": [],
   "source": [
    "for file in filelist:\n",
    "    file1 = convert_to_shp(file, is_overwrite=False)\n",
    "    keep_name_only(file1)"
   ]
  },
  {
   "cell_type": "code",
   "execution_count": null,
   "metadata": {},
   "outputs": [],
   "source": []
  },
  {
   "cell_type": "code",
   "execution_count": null,
   "metadata": {
    "jupyter": {
     "source_hidden": true
    }
   },
   "outputs": [],
   "source": [
    "folder='/scratch/andresro/leon_work/barry_palm/data/labels/palm_annotations/T50NQL/group1'\n",
    "\n",
    "\n",
    "filelist = glob.glob(folder+'/*.shp')\n",
    "\n",
    "featnames = [get_featname(file, is_assert=True)[0] for file in filelist] # TODO fix if there is more than 1 feature in .shp\n",
    "# pos_shp = [x for x,names in zip(filelist,featnames) if 'pos' in names[0] and 'POLYGON' in names[1]]"
   ]
  },
  {
   "cell_type": "code",
   "execution_count": null,
   "metadata": {
    "jupyter": {
     "source_hidden": true
    }
   },
   "outputs": [],
   "source": [
    "poly_feat = ['POLY' in x[1] for x in featnames[2]]\n"
   ]
  },
  {
   "cell_type": "code",
   "execution_count": null,
   "metadata": {
    "jupyter": {
     "outputs_hidden": true,
     "source_hidden": true
    }
   },
   "outputs": [],
   "source": [
    "\n",
    "featnames"
   ]
  },
  {
   "cell_type": "code",
   "execution_count": null,
   "metadata": {},
   "outputs": [],
   "source": [
    "set([x['geom'] for x in featnames[6]])"
   ]
  },
  {
   "cell_type": "code",
   "execution_count": null,
   "metadata": {
    "jupyter": {
     "source_hidden": true
    }
   },
   "outputs": [],
   "source": [
    "\n",
    "pos_names = set([x for x in featnames[7] if 'pos' in x['Name'] and 'GEOM' in x['geom']])\n",
    "neg_names = set([x for x in featnames[7] if 'neg' in x['Name'] and 'GEOM' in x['geom']])\n"
   ]
  },
  {
   "cell_type": "code",
   "execution_count": null,
   "metadata": {},
   "outputs": [],
   "source": []
  }
 ],
 "metadata": {
  "kernelspec": {
   "display_name": "Python [conda env:gdal233]",
   "language": "python",
   "name": "conda-env-gdal233-py"
  },
  "language_info": {
   "codemirror_mode": {
    "name": "ipython",
    "version": 3
   },
   "file_extension": ".py",
   "mimetype": "text/x-python",
   "name": "python",
   "nbconvert_exporter": "python",
   "pygments_lexer": "ipython3",
   "version": "3.7.7"
  }
 },
 "nbformat": 4,
 "nbformat_minor": 4
}
